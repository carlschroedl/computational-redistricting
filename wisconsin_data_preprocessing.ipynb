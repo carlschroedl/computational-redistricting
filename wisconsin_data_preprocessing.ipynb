{
  "nbformat": 4,
  "nbformat_minor": 0,
  "metadata": {
    "colab": {
      "name": "wisconsin_data_preprocessing",
      "provenance": [],
      "collapsed_sections": [],
      "authorship_tag": "ABX9TyM0RrJ/StZHjM4uvyvONYs9",
      "include_colab_link": true
    },
    "kernelspec": {
      "name": "python3",
      "display_name": "Python 3"
    },
    "language_info": {
      "name": "python"
    }
  },
  "cells": [
    {
      "cell_type": "markdown",
      "metadata": {
        "id": "view-in-github",
        "colab_type": "text"
      },
      "source": [
        "<a href=\"https://colab.research.google.com/github/carlschroedl/computational-redistricting/blob/main/wisconsin_data_preprocessing.ipynb\" target=\"_parent\"><img src=\"https://colab.research.google.com/assets/colab-badge.svg\" alt=\"Open In Colab\"/></a>"
      ]
    },
    {
      "cell_type": "code",
      "metadata": {
        "colab": {
          "base_uri": "https://localhost:8080/"
        },
        "id": "Wvu9qARnK5yk",
        "outputId": "70137f01-e328-4a3f-d2b8-6dfa34569c58"
      },
      "source": [
        "# Download the WI state LTSB's 2020 census data aggregated by ward \n",
        "# https://data-ltsb.opendata.arcgis.com/datasets/2020-us-census-data-by-ward/explore\n",
        "!curl --output '2020_US_Census_Data_by_Ward.zip' -O 'https://opendata.arcgis.com/api/v3/datasets/df0ddd9a49394a0a83867b4db196509f_0/downloads/data?format=shp&spatialRefId=3857'"
      ],
      "execution_count": 1,
      "outputs": [
        {
          "output_type": "stream",
          "name": "stdout",
          "text": [
            "  % Total    % Received % Xferd  Average Speed   Time    Time     Time  Current\n",
            "                                 Dload  Upload   Total   Spent    Left  Speed\n",
            "100 15.3M    0 15.3M    0     0  23.6M      0 --:--:-- --:--:-- --:--:-- 23.6M\n"
          ]
        }
      ]
    },
    {
      "cell_type": "code",
      "metadata": {
        "id": "2x9yyDlgWM6K",
        "colab": {
          "base_uri": "https://localhost:8080/"
        },
        "outputId": "d764d41b-0b75-4080-80ad-82c229ed6e2c"
      },
      "source": [
        "# Download the WI state LTSB's election data aggregated by 2020 ward.\n",
        "\n",
        "#############################################################################\n",
        "# Note: this file contains old (2010) census data for the wards\n",
        "# This will be replaced with 2020 census data prior to analysis\n",
        "#############################################################################\n",
        "\n",
        "# https://data-ltsb.opendata.arcgis.com/datasets/2012-2020-election-data-with-2020-wards/explore\n",
        "!curl --output '2012-2020_Election_Data_with_2020_Wards.zip' -O 'https://opendata.arcgis.com/api/v3/datasets/f67c2e7f43bb432687b4a42bee50a16c_0/downloads/data?format=shp&spatialRefId=3857'  "
      ],
      "execution_count": 2,
      "outputs": [
        {
          "output_type": "stream",
          "name": "stdout",
          "text": [
            "  % Total    % Received % Xferd  Average Speed   Time    Time     Time  Current\n",
            "                                 Dload  Upload   Total   Spent    Left  Speed\n",
            "100 21.5M    0 21.5M    0     0  28.4M      0 --:--:-- --:--:-- --:--:-- 28.4M\n"
          ]
        }
      ]
    },
    {
      "cell_type": "code",
      "metadata": {
        "id": "DVkxv9i1N0PP",
        "colab": {
          "base_uri": "https://localhost:8080/"
        },
        "outputId": "0519530e-bd9f-47d2-9eee-3dc760d69fba"
      },
      "source": [
        "!pip install geopandas matplotlib gerrychain maup"
      ],
      "execution_count": 3,
      "outputs": [
        {
          "output_type": "stream",
          "name": "stdout",
          "text": [
            "Requirement already satisfied: geopandas in /usr/local/lib/python3.7/dist-packages (0.9.0)\n",
            "Requirement already satisfied: matplotlib in /usr/local/lib/python3.7/dist-packages (3.2.2)\n",
            "Requirement already satisfied: gerrychain in /usr/local/lib/python3.7/dist-packages (0.2.17)\n",
            "Requirement already satisfied: maup in /usr/local/lib/python3.7/dist-packages (1.0.3)\n",
            "Requirement already satisfied: pyproj>=2.2.0 in /usr/local/lib/python3.7/dist-packages (from geopandas) (3.2.1)\n",
            "Requirement already satisfied: pandas>=0.24.0 in /usr/local/lib/python3.7/dist-packages (from geopandas) (1.3.3)\n",
            "Requirement already satisfied: shapely>=1.6 in /usr/local/lib/python3.7/dist-packages (from geopandas) (1.7.1)\n",
            "Requirement already satisfied: fiona>=1.8 in /usr/local/lib/python3.7/dist-packages (from geopandas) (1.8.20)\n",
            "Requirement already satisfied: click>=4.0 in /usr/local/lib/python3.7/dist-packages (from fiona>=1.8->geopandas) (7.1.2)\n",
            "Requirement already satisfied: munch in /usr/local/lib/python3.7/dist-packages (from fiona>=1.8->geopandas) (2.5.0)\n",
            "Requirement already satisfied: setuptools in /usr/local/lib/python3.7/dist-packages (from fiona>=1.8->geopandas) (57.4.0)\n",
            "Requirement already satisfied: cligj>=0.5 in /usr/local/lib/python3.7/dist-packages (from fiona>=1.8->geopandas) (0.7.2)\n",
            "Requirement already satisfied: attrs>=17 in /usr/local/lib/python3.7/dist-packages (from fiona>=1.8->geopandas) (21.2.0)\n",
            "Requirement already satisfied: certifi in /usr/local/lib/python3.7/dist-packages (from fiona>=1.8->geopandas) (2021.5.30)\n",
            "Requirement already satisfied: six>=1.7 in /usr/local/lib/python3.7/dist-packages (from fiona>=1.8->geopandas) (1.15.0)\n",
            "Requirement already satisfied: click-plugins>=1.0 in /usr/local/lib/python3.7/dist-packages (from fiona>=1.8->geopandas) (1.1.1)\n",
            "Requirement already satisfied: pytz>=2017.3 in /usr/local/lib/python3.7/dist-packages (from pandas>=0.24.0->geopandas) (2018.9)\n",
            "Requirement already satisfied: python-dateutil>=2.7.3 in /usr/local/lib/python3.7/dist-packages (from pandas>=0.24.0->geopandas) (2.8.2)\n",
            "Requirement already satisfied: numpy>=1.17.3 in /usr/local/lib/python3.7/dist-packages (from pandas>=0.24.0->geopandas) (1.21.2)\n",
            "Requirement already satisfied: kiwisolver>=1.0.1 in /usr/local/lib/python3.7/dist-packages (from matplotlib) (1.3.2)\n",
            "Requirement already satisfied: pyparsing!=2.0.4,!=2.1.2,!=2.1.6,>=2.0.1 in /usr/local/lib/python3.7/dist-packages (from matplotlib) (2.4.7)\n",
            "Requirement already satisfied: cycler>=0.10 in /usr/local/lib/python3.7/dist-packages (from matplotlib) (0.10.0)\n",
            "Requirement already satisfied: networkx in /usr/local/lib/python3.7/dist-packages (from gerrychain) (2.6.3)\n",
            "Requirement already satisfied: scipy in /usr/local/lib/python3.7/dist-packages (from gerrychain) (1.4.1)\n",
            "Requirement already satisfied: tqdm<5.0.0,>=4.61.1 in /usr/local/lib/python3.7/dist-packages (from maup) (4.62.3)\n"
          ]
        }
      ]
    },
    {
      "cell_type": "code",
      "metadata": {
        "id": "y8LfWxpuNpRe"
      },
      "source": [
        "import os\n",
        "import geopandas\n",
        "import pandas\n",
        "import matplotlib.pyplot as plt\n",
        "import numpy as np\n",
        "import gerrychain\n",
        "import maup\n",
        "from IPython.display import display, Markdown\n",
        "from pprint import pprint"
      ],
      "execution_count": 48,
      "outputs": []
    },
    {
      "cell_type": "code",
      "metadata": {
        "id": "HXU7zljRQQPi"
      },
      "source": [
        "census_data_2020 = geopandas.read_file('2020_US_Census_Data_by_Ward.zip')"
      ],
      "execution_count": 7,
      "outputs": []
    },
    {
      "cell_type": "code",
      "metadata": {
        "id": "EmafPQE-QVy7",
        "colab": {
          "base_uri": "https://localhost:8080/"
        },
        "outputId": "021aa56a-c5cb-4f36-b29a-e619ad9a0bc1"
      },
      "source": [
        "# inspect census data\n",
        "print(census_data_2020.info())\n",
        "print(census_data_2020['GEOID'].head())\n",
        "print(census_data_2020['WARDID'].head())\n",
        "print(set(census_data_2020['GEOID']) == set(census_data_2020['WARDID']))\n"
      ],
      "execution_count": 9,
      "outputs": [
        {
          "output_type": "stream",
          "name": "stdout",
          "text": [
            "<class 'geopandas.geodataframe.GeoDataFrame'>\n",
            "RangeIndex: 7136 entries, 0 to 7135\n",
            "Data columns (total 39 columns):\n",
            " #   Column      Non-Null Count  Dtype   \n",
            "---  ------      --------------  -----   \n",
            " 0   FID         7136 non-null   int64   \n",
            " 1   GEOID       7136 non-null   object  \n",
            " 2   WARDID      7136 non-null   object  \n",
            " 3   CNTY_FIPS   7136 non-null   object  \n",
            " 4   CNTY_NAME   7136 non-null   object  \n",
            " 5   MCD_FIPS    7136 non-null   object  \n",
            " 6   MCD_NAME    7136 non-null   object  \n",
            " 7   COUSUBFP    7136 non-null   object  \n",
            " 8   LSAD        7136 non-null   object  \n",
            " 9   CTV         7136 non-null   object  \n",
            " 10  ASM         7136 non-null   object  \n",
            " 11  SEN         7136 non-null   object  \n",
            " 12  CON         7136 non-null   object  \n",
            " 13  LABEL       7136 non-null   object  \n",
            " 14  STR_WARDS   7136 non-null   object  \n",
            " 15  DISTRICT    7136 non-null   object  \n",
            " 16  PERSONS     7136 non-null   int64   \n",
            " 17  HISPANIC    7136 non-null   int64   \n",
            " 18  WHITE       7136 non-null   int64   \n",
            " 19  BLACK       7136 non-null   int64   \n",
            " 20  ASIAN       7136 non-null   int64   \n",
            " 21  AMINDIAN    7136 non-null   int64   \n",
            " 22  PISLAND     7136 non-null   int64   \n",
            " 23  OTHER       7136 non-null   int64   \n",
            " 24  OTHERMLT    7136 non-null   int64   \n",
            " 25  PERSONS18   7136 non-null   int64   \n",
            " 26  HISPANIC18  7136 non-null   int64   \n",
            " 27  WHITE18     7136 non-null   int64   \n",
            " 28  BLACK18     7136 non-null   int64   \n",
            " 29  ASIAN18     7136 non-null   int64   \n",
            " 30  AMINDIAN18  7136 non-null   int64   \n",
            " 31  PISLAND18   7136 non-null   int64   \n",
            " 32  OTHER18     7136 non-null   int64   \n",
            " 33  OTHERMLT18  7136 non-null   int64   \n",
            " 34  Shape_Leng  7136 non-null   float64 \n",
            " 35  Shape_Area  7136 non-null   float64 \n",
            " 36  Shape__Are  7136 non-null   float64 \n",
            " 37  Shape__Len  7136 non-null   float64 \n",
            " 38  geometry    7136 non-null   geometry\n",
            "dtypes: float64(4), geometry(1), int64(19), object(15)\n",
            "memory usage: 2.1+ MB\n",
            "None\n",
            "0    55001002750001\n",
            "1    55001002750002\n",
            "2    55001002750003\n",
            "3    55001002750004\n",
            "4    55001003000001\n",
            "Name: GEOID, dtype: object\n",
            "0    55001002750001\n",
            "1    55001002750002\n",
            "2    55001002750003\n",
            "3    55001002750004\n",
            "4    55001003000001\n",
            "Name: WARDID, dtype: object\n",
            "True\n"
          ]
        }
      ]
    },
    {
      "cell_type": "code",
      "metadata": {
        "id": "nyb8-Q-4XKmd"
      },
      "source": [
        "election_data = geopandas.read_file('2012-2020_Election_Data_with_2020_Wards.zip')"
      ],
      "execution_count": 10,
      "outputs": []
    },
    {
      "cell_type": "code",
      "metadata": {
        "id": "tfAkWdf7WE4c"
      },
      "source": [
        "election_wards_and_geoms = dict(zip(election_data['GEOID'], election_data['geometry']))\n",
        "census_2020_wards_and_geoms = dict(zip(census_data_2020['GEOID'], census_data_2020['geometry']))"
      ],
      "execution_count": 51,
      "outputs": []
    },
    {
      "cell_type": "code",
      "metadata": {
        "colab": {
          "base_uri": "https://localhost:8080/",
          "height": 615
        },
        "id": "X0s5u7FSWG6t",
        "outputId": "4cb8bfc1-7391-4e12-8921-507866e2fc0f"
      },
      "source": [
        "election_only_wards = set(election_wards_and_geoms.keys()) - set(census_2020_wards_and_geoms.keys())\n",
        "display(Markdown('# Wards in election data but not in census data'))\n",
        "print(len(election_only_wards))\n",
        "print(election_only_wards)\n",
        "election_only_wards_and_geoms = [{'GEOID': ward, 'geometry': election_wards_and_geoms[ward]} for ward in election_only_wards]\n",
        "print(election_only_wards_and_geoms)\n",
        "election_only_wards_and_geoms_df = geopandas.GeoDataFrame(election_only_wards_and_geoms)\n",
        "print(election_only_wards_and_geoms_df.info())\n",
        "election_only_wards_and_geoms_df.plot()"
      ],
      "execution_count": 54,
      "outputs": [
        {
          "output_type": "display_data",
          "data": {
            "text/markdown": "# Wards in election data but not in census data",
            "text/plain": [
              "<IPython.core.display.Markdown object>"
            ]
          },
          "metadata": {}
        },
        {
          "output_type": "stream",
          "name": "stdout",
          "text": [
            "86\n",
            "{'5513960500022B', '5507905450003S', '55139508250035', '55133787500012', '55087327900001', '5507927300022B', '55131853500030', '55081800750018', '5513982875001A', '55131744000009', '5508141000003B', '5507927300022A', '55025480000150', '55035223000079', '5508180075005A', '5513960500025A', '55035223000077', '55139269820015', '55071485000031', '5508141000001B', '5513982875001B', '5513950825005A', '5513960500022A', '5513960500029A', '55133284870011', '55119504250009', '55071485000030', '5503926300001A', '55127286759999', '5513960525001A', '5508180075005B', '5509581075002A', '5513988475002C', '55059392250115', '5513950825005B', '5501714575003B', '5507927300015A', '55131330000017', '55059392250114', '5503968175007A', '5513950825001B', '5508141000002B', '55017223000078', '55073844750050', '5509581075002B', '55087327900002', '55073844750051', '55027844250006', '5513988475002B', '5513960500029B', '5507927300015B', '5508141000001A', '55139557500028', '5508951150007A', '5503984425009B', '5513960500028B', '55111668000015', '5503984425009A', '5507905450001S', '55071395250011', '5501714575003A', '5513988475002A', '5508141000002A', '5513950825001A', '55025480000149', '5507929400008S', '55073771500005', '5513960500028A', '55131853500029', '5513960525001B', '5508141000003A', '5513960500023A', '55035223000054', '5510111950003B', '5501714575007A', '55025480000154', '5513960500023B', '55097772000034', '55133142250003', '55131853500028', '5513960500025B', '55063862750007', '55025480000152', '55009011500010', '5507929400011S', '5508951150007B'}\n",
            "[{'GEOID': '5513960500022B', 'geometry': <shapely.geometry.polygon.Polygon object at 0x7f2c1ec57950>}, {'GEOID': '5507905450003S', 'geometry': <shapely.geometry.polygon.Polygon object at 0x7f2c1eacf110>}, {'GEOID': '55139508250035', 'geometry': <shapely.geometry.polygon.Polygon object at 0x7f2c1ec58f50>}, {'GEOID': '55133787500012', 'geometry': <shapely.geometry.polygon.Polygon object at 0x7f2c1ec59890>}, {'GEOID': '55087327900001', 'geometry': <shapely.geometry.polygon.Polygon object at 0x7f2c1eadf810>}, {'GEOID': '5507927300022B', 'geometry': <shapely.geometry.polygon.Polygon object at 0x7f2c1eaca150>}, {'GEOID': '55131853500030', 'geometry': <shapely.geometry.polygon.Polygon object at 0x7f2c1ea99090>}, {'GEOID': '55081800750018', 'geometry': <shapely.geometry.polygon.Polygon object at 0x7f2c1ead9150>}, {'GEOID': '5513982875001A', 'geometry': <shapely.geometry.polygon.Polygon object at 0x7f2c1ec57d50>}, {'GEOID': '55131744000009', 'geometry': <shapely.geometry.polygon.Polygon object at 0x7f2c1ea9af50>}, {'GEOID': '5508141000003B', 'geometry': <shapely.geometry.polygon.Polygon object at 0x7f2c1eade310>}, {'GEOID': '5507927300022A', 'geometry': <shapely.geometry.polygon.Polygon object at 0x7f2c1eaca310>}, {'GEOID': '55025480000150', 'geometry': <shapely.geometry.polygon.Polygon object at 0x7f2c1eb62e10>}, {'GEOID': '55035223000079', 'geometry': <shapely.geometry.polygon.Polygon object at 0x7f2c1eb20690>}, {'GEOID': '5508180075005A', 'geometry': <shapely.geometry.polygon.Polygon object at 0x7f2c1eade350>}, {'GEOID': '5513960500025A', 'geometry': <shapely.geometry.polygon.Polygon object at 0x7f2c1ec57bd0>}, {'GEOID': '55035223000077', 'geometry': <shapely.geometry.polygon.Polygon object at 0x7f2c1eaabe90>}, {'GEOID': '55139269820015', 'geometry': <shapely.geometry.polygon.Polygon object at 0x7f2c1ec59950>}, {'GEOID': '55071485000031', 'geometry': <shapely.geometry.polygon.Polygon object at 0x7f2c1eacfbd0>}, {'GEOID': '5508141000001B', 'geometry': <shapely.geometry.multipolygon.MultiPolygon object at 0x7f2c1eade210>}, {'GEOID': '5513982875001B', 'geometry': <shapely.geometry.polygon.Polygon object at 0x7f2c1ec57210>}, {'GEOID': '5513950825005A', 'geometry': <shapely.geometry.polygon.Polygon object at 0x7f2c1ec58910>}, {'GEOID': '5513960500022A', 'geometry': <shapely.geometry.polygon.Polygon object at 0x7f2c1ec57e50>}, {'GEOID': '5513960500029A', 'geometry': <shapely.geometry.multipolygon.MultiPolygon object at 0x7f2c1ec57ed0>}, {'GEOID': '55133284870011', 'geometry': <shapely.geometry.polygon.Polygon object at 0x7f2c1ec596d0>}, {'GEOID': '55119504250009', 'geometry': <shapely.geometry.polygon.Polygon object at 0x7f2c1ea82790>}, {'GEOID': '55071485000030', 'geometry': <shapely.geometry.polygon.Polygon object at 0x7f2c1eacfb90>}, {'GEOID': '5503926300001A', 'geometry': <shapely.geometry.polygon.Polygon object at 0x7f2c1eaaa790>}, {'GEOID': '55127286759999', 'geometry': <shapely.geometry.polygon.Polygon object at 0x7f2c1ea94a10>}, {'GEOID': '5513960525001A', 'geometry': <shapely.geometry.polygon.Polygon object at 0x7f2c1ec57190>}, {'GEOID': '5508180075005B', 'geometry': <shapely.geometry.polygon.Polygon object at 0x7f2c1eade390>}, {'GEOID': '5509581075002A', 'geometry': <shapely.geometry.polygon.Polygon object at 0x7f2c1eac7b90>}, {'GEOID': '5513988475002C', 'geometry': <shapely.geometry.polygon.Polygon object at 0x7f2c1ec57f90>}, {'GEOID': '55059392250115', 'geometry': <shapely.geometry.polygon.Polygon object at 0x7f2c1eac60d0>}, {'GEOID': '5513950825005B', 'geometry': <shapely.geometry.polygon.Polygon object at 0x7f2c1ec58350>}, {'GEOID': '5501714575003B', 'geometry': <shapely.geometry.polygon.Polygon object at 0x7f2c1eb3d190>}, {'GEOID': '5507927300015A', 'geometry': <shapely.geometry.polygon.Polygon object at 0x7f2c1eaca0d0>}, {'GEOID': '55131330000017', 'geometry': <shapely.geometry.polygon.Polygon object at 0x7f2c1ea97850>}, {'GEOID': '55059392250114', 'geometry': <shapely.geometry.polygon.Polygon object at 0x7f2c1eac6fd0>}, {'GEOID': '5503968175007A', 'geometry': <shapely.geometry.polygon.Polygon object at 0x7f2c1eaa9a50>}, {'GEOID': '5513950825001B', 'geometry': <shapely.geometry.polygon.Polygon object at 0x7f2c1ec59c10>}, {'GEOID': '5508141000002B', 'geometry': <shapely.geometry.multipolygon.MultiPolygon object at 0x7f2c1eade290>}, {'GEOID': '55017223000078', 'geometry': <shapely.geometry.polygon.Polygon object at 0x7f2c1eb0f0d0>}, {'GEOID': '55073844750050', 'geometry': <shapely.geometry.polygon.Polygon object at 0x7f2c1eacfc90>}, {'GEOID': '5509581075002B', 'geometry': <shapely.geometry.multipolygon.MultiPolygon object at 0x7f2c1eac7bd0>}, {'GEOID': '55087327900002', 'geometry': <shapely.geometry.polygon.Polygon object at 0x7f2c1eadf850>}, {'GEOID': '55073844750051', 'geometry': <shapely.geometry.polygon.Polygon object at 0x7f2c1eacfe10>}, {'GEOID': '55027844250006', 'geometry': <shapely.geometry.polygon.Polygon object at 0x7f2c1eb27790>}, {'GEOID': '5513988475002B', 'geometry': <shapely.geometry.polygon.Polygon object at 0x7f2c1ec57e90>}, {'GEOID': '5513960500029B', 'geometry': <shapely.geometry.multipolygon.MultiPolygon object at 0x7f2c1ec57fd0>}, {'GEOID': '5507927300015B', 'geometry': <shapely.geometry.polygon.Polygon object at 0x7f2c1eacaf10>}, {'GEOID': '5508141000001A', 'geometry': <shapely.geometry.multipolygon.MultiPolygon object at 0x7f2c1eade1d0>}, {'GEOID': '55139557500028', 'geometry': <shapely.geometry.polygon.Polygon object at 0x7f2c1ec5d090>}, {'GEOID': '5508951150007A', 'geometry': <shapely.geometry.polygon.Polygon object at 0x7f2c1ea68c50>}, {'GEOID': '5503984425009B', 'geometry': <shapely.geometry.polygon.Polygon object at 0x7f2c1eaa9f10>}, {'GEOID': '5513960500028B', 'geometry': <shapely.geometry.multipolygon.MultiPolygon object at 0x7f2c1ec57d90>}, {'GEOID': '55111668000015', 'geometry': <shapely.geometry.polygon.Polygon object at 0x7f2c1ea87610>}, {'GEOID': '5503984425009A', 'geometry': <shapely.geometry.polygon.Polygon object at 0x7f2c1eaa9ed0>}, {'GEOID': '5507905450001S', 'geometry': <shapely.geometry.polygon.Polygon object at 0x7f2c1eacffd0>}, {'GEOID': '55071395250011', 'geometry': <shapely.geometry.polygon.Polygon object at 0x7f2c1eacfb50>}, {'GEOID': '5501714575003A', 'geometry': <shapely.geometry.polygon.Polygon object at 0x7f2c1eb3de10>}, {'GEOID': '5513988475002A', 'geometry': <shapely.geometry.multipolygon.MultiPolygon object at 0x7f2c1ec57710>}, {'GEOID': '5508141000002A', 'geometry': <shapely.geometry.polygon.Polygon object at 0x7f2c1eade250>}, {'GEOID': '5513950825001A', 'geometry': <shapely.geometry.multipolygon.MultiPolygon object at 0x7f2c1ec59810>}, {'GEOID': '55025480000149', 'geometry': <shapely.geometry.polygon.Polygon object at 0x7f2c1eb62d10>}, {'GEOID': '5507929400008S', 'geometry': <shapely.geometry.polygon.Polygon object at 0x7f2c1ead3150>}, {'GEOID': '55073771500005', 'geometry': <shapely.geometry.polygon.Polygon object at 0x7f2c1eacfc10>}, {'GEOID': '5513960500028A', 'geometry': <shapely.geometry.polygon.Polygon object at 0x7f2c1ec570d0>}, {'GEOID': '55131853500029', 'geometry': <shapely.geometry.polygon.Polygon object at 0x7f2c1ea99fd0>}, {'GEOID': '5513960525001B', 'geometry': <shapely.geometry.polygon.Polygon object at 0x7f2c1ec57090>}, {'GEOID': '5508141000003A', 'geometry': <shapely.geometry.polygon.Polygon object at 0x7f2c1eade2d0>}, {'GEOID': '5513960500023A', 'geometry': <shapely.geometry.multipolygon.MultiPolygon object at 0x7f2c1ec57a90>}, {'GEOID': '55035223000054', 'geometry': <shapely.geometry.polygon.Polygon object at 0x7f2c1eb20110>}, {'GEOID': '5510111950003B', 'geometry': <shapely.geometry.polygon.Polygon object at 0x7f2c1ea6d390>}, {'GEOID': '5501714575007A', 'geometry': <shapely.geometry.polygon.Polygon object at 0x7f2c1eb3ded0>}, {'GEOID': '55025480000154', 'geometry': <shapely.geometry.polygon.Polygon object at 0x7f2c1eb62f90>}, {'GEOID': '5513960500023B', 'geometry': <shapely.geometry.polygon.Polygon object at 0x7f2c1ec57c90>}, {'GEOID': '55097772000034', 'geometry': <shapely.geometry.polygon.Polygon object at 0x7f2c1eae48d0>}, {'GEOID': '55133142250003', 'geometry': <shapely.geometry.polygon.Polygon object at 0x7f2c1ea97a10>}, {'GEOID': '55131853500028', 'geometry': <shapely.geometry.polygon.Polygon object at 0x7f2c1ea99f90>}, {'GEOID': '5513960500025B', 'geometry': <shapely.geometry.polygon.Polygon object at 0x7f2c1ec57e10>}, {'GEOID': '55063862750007', 'geometry': <shapely.geometry.polygon.Polygon object at 0x7f2c1eabcdd0>}, {'GEOID': '55025480000152', 'geometry': <shapely.geometry.polygon.Polygon object at 0x7f2c1eb620d0>}, {'GEOID': '55009011500010', 'geometry': <shapely.geometry.polygon.Polygon object at 0x7f2c1eaed850>}, {'GEOID': '5507929400011S', 'geometry': <shapely.geometry.polygon.Polygon object at 0x7f2c1ead3190>}, {'GEOID': '5508951150007B', 'geometry': <shapely.geometry.polygon.Polygon object at 0x7f2c1ea68cd0>}]\n",
            "<class 'geopandas.geodataframe.GeoDataFrame'>\n",
            "RangeIndex: 86 entries, 0 to 85\n",
            "Data columns (total 2 columns):\n",
            " #   Column    Non-Null Count  Dtype   \n",
            "---  ------    --------------  -----   \n",
            " 0   GEOID     86 non-null     object  \n",
            " 1   geometry  86 non-null     geometry\n",
            "dtypes: geometry(1), object(1)\n",
            "memory usage: 1.5+ KB\n",
            "None\n"
          ]
        },
        {
          "output_type": "execute_result",
          "data": {
            "text/plain": [
              "<matplotlib.axes._subplots.AxesSubplot at 0x7f2c1e188310>"
            ]
          },
          "metadata": {},
          "execution_count": 54
        },
        {
          "output_type": "display_data",
          "data": {
            "image/png": "[encoded data removed]",
            "text/plain": [
              "<Figure size 432x288 with 1 Axes>"
            ]
          },
          "metadata": {
            "needs_background": "light"
          }
        }
      ]
    },
    {
      "cell_type": "code",
      "metadata": {
        "colab": {
          "base_uri": "https://localhost:8080/",
          "height": 615
        },
        "id": "1W9m5xbQJ7Hw",
        "outputId": "f0c47552-409a-4bf6-ad33-1e7922c63097"
      },
      "source": [
        "census_only_wards = set(census_2020_wards_and_geoms.keys()) - set(election_wards_and_geoms.keys())   \n",
        "display(Markdown(('# Wards in census data but not in election data')))\n",
        "print(len(census_only_wards))\n",
        "print(census_only_wards)\n",
        "census_only_wards_and_geoms = [{'GEOID': ward, 'geometry': census_2020_wards_and_geoms[ward]} for ward in census_only_wards]\n",
        "print(census_only_wards_and_geoms)\n",
        "census_only_wards_and_geoms_df = geopandas.GeoDataFrame(census_only_wards_and_geoms)\n",
        "print(census_only_wards_and_geoms_df.info())\n",
        "census_only_wards_and_geoms_df.plot()\n",
        "\n",
        "\n"
      ],
      "execution_count": 55,
      "outputs": [
        {
          "output_type": "display_data",
          "data": {
            "text/markdown": "# Wards in census data but not in election data",
            "text/plain": [
              "<IPython.core.display.Markdown object>"
            ]
          },
          "metadata": {}
        },
        {
          "output_type": "stream",
          "name": "stdout",
          "text": [
            "144\n",
            "{'55131805750031', '55139508250005', '55133205500006', '55139605000023', '55139828750003', '55089511500022', '55139884750003', '55045567250003', '55081410000003', '55025827500016', '55039263000009', '55139508250001', '55079294000014', '55105816500008', '55035815500045', '55025211000015', '55017145750010', '55139605000025', '55079273000024', '55105810500024', '55141301250017', '55095810750002', '55017145750009', '55025111500013', '55035815500019', '55127221000006', '55081800750005', '55119504500008', '55097363500011', '55121445000002', '55079294000013', '55017145750008', '55117875000010', '55139010250019', '55007032250001', '55141496750025', '55035836120027', '55101119500021', '55097363500020', '55035836120039', '55009429000010', '55131330250014', '55127286750005', '55097613250020', '55139269820032', '55105327000026', '55139605000022', '55139605000045', '55025826250105', '55025111500023', '55121785000002', '55009429000012', '55079054500006', '55081753500017', '55097363500017', '55071485750018', '55135426500004', '55047313500003', '55025516000010', '55139884750004', '55141882000029', '55079273000015', '55087300750020', '55053520500002', '55141496750026', '55139605250006', '55139508250016', '55043552250002', '55141496750027', '55081753500009', '55139884750002', '55081800750025', '55025111500024', '55141301250029', '55025211250016', '55005206500002', '55095810750003', '55009351500015', '55117730000016', '55039240500017', '55097613250019', '55139605250001', '55139605000046', '55025111500025', '55025516000149', '55079273000022', '55039844250013', '55133831750009', '55141882000026', '55035836120033', '55097363500024', '55049539500001', '55139828750001', '55025826250115', '55141882000028', '55017415250016', '55097363500022', '55059633000064', '55035836120017', '55081410000001', '55081410000006', '55025516000106', '55081410000002', '55039681750012', '55025083500009', '55087449500017', '55097613250023', '55039844250002', '55139605000047', '55141882000027', '55025826250098', '55025704000009', '55089644750004', '55081410000005', '55025146500003', '55025111500145', '55025786250013', '55139605250026', '55139605000028', '55097613250022', '55025516000150', '55081410000004', '55139605000029', '55105810500023', '55025516000107', '55047313500004', '55039844250014', '55089511500007', '55025516000111', '55025861250009', '55073469750020', '55079054500007', '55035815500023', '55079846750203', '55071485750020', '55139508250043', '55055379250007', '55117730000017', '55035726750054', '55133072000009', '55139605000048', '55025172000009', '55139605000044', '55035836120043'}\n",
            "[{'GEOID': '55131805750031', 'geometry': <shapely.geometry.polygon.Polygon object at 0x7f2c1d57fe90>}, {'GEOID': '55139508250005', 'geometry': <shapely.geometry.polygon.Polygon object at 0x7f2c1d342e10>}, {'GEOID': '55133205500006', 'geometry': <shapely.geometry.polygon.Polygon object at 0x7f2c1d4ee850>}, {'GEOID': '55139605000023', 'geometry': <shapely.geometry.polygon.Polygon object at 0x7f2c1d2ab450>}, {'GEOID': '55139828750003', 'geometry': <shapely.geometry.polygon.Polygon object at 0x7f2c1d2da590>}, {'GEOID': '55089511500022', 'geometry': <shapely.geometry.polygon.Polygon object at 0x7f2c1ddcc790>}, {'GEOID': '55139884750003', 'geometry': <shapely.geometry.polygon.Polygon object at 0x7f2c1d2e3ed0>}, {'GEOID': '55045567250003', 'geometry': <shapely.geometry.polygon.Polygon object at 0x7f2c1e4d4b90>}, {'GEOID': '55081410000003', 'geometry': <shapely.geometry.polygon.Polygon object at 0x7f2c1ddf1990>}, {'GEOID': '55025827500016', 'geometry': <shapely.geometry.polygon.Polygon object at 0x7f2c1e7f6750>}, {'GEOID': '55039263000009', 'geometry': <shapely.geometry.polygon.Polygon object at 0x7f2c1e57f090>}, {'GEOID': '55139508250001', 'geometry': <shapely.geometry.polygon.Polygon object at 0x7f2c1d33fa50>}, {'GEOID': '55079294000014', 'geometry': <shapely.geometry.polygon.Polygon object at 0x7f2c1e01d890>}, {'GEOID': '55105816500008', 'geometry': <shapely.geometry.polygon.Polygon object at 0x7f2c1d997a90>}, {'GEOID': '55035815500045', 'geometry': <shapely.geometry.polygon.Polygon object at 0x7f2c1e619e50>}, {'GEOID': '55025211000015', 'geometry': <shapely.geometry.polygon.Polygon object at 0x7f2c1e948a90>}, {'GEOID': '55017145750010', 'geometry': <shapely.geometry.polygon.Polygon object at 0x7f2c1ea7fb10>}, {'GEOID': '55139605000025', 'geometry': <shapely.geometry.polygon.Polygon object at 0x7f2c1d2aee10>}, {'GEOID': '55079273000024', 'geometry': <shapely.geometry.polygon.Polygon object at 0x7f2c1e010a10>}, {'GEOID': '55105810500024', 'geometry': <shapely.geometry.multipolygon.MultiPolygon object at 0x7f2c1d96dc90>}, {'GEOID': '55141301250017', 'geometry': <shapely.geometry.polygon.Polygon object at 0x7f2c1d26c490>}, {'GEOID': '55095810750002', 'geometry': <shapely.geometry.polygon.Polygon object at 0x7f2c1db5dbd0>}, {'GEOID': '55017145750009', 'geometry': <shapely.geometry.polygon.Polygon object at 0x7f2c1ea7ddd0>}, {'GEOID': '55025111500013', 'geometry': <shapely.geometry.polygon.Polygon object at 0x7f2c1e982310>}, {'GEOID': '55035815500019', 'geometry': <shapely.geometry.polygon.Polygon object at 0x7f2c1e616650>}, {'GEOID': '55127221000006', 'geometry': <shapely.geometry.multipolygon.MultiPolygon object at 0x7f2c1d66efd0>}, {'GEOID': '55081800750005', 'geometry': <shapely.geometry.polygon.Polygon object at 0x7f2c1ddadd10>}, {'GEOID': '55119504500008', 'geometry': <shapely.geometry.polygon.Polygon object at 0x7f2c1d7944d0>}, {'GEOID': '55097363500011', 'geometry': <shapely.geometry.polygon.Polygon object at 0x7f2c1dafa110>}, {'GEOID': '55121445000002', 'geometry': <shapely.geometry.polygon.Polygon object at 0x7f2c1d78b310>}, {'GEOID': '55079294000013', 'geometry': <shapely.geometry.polygon.Polygon object at 0x7f2c1e01cbd0>}, {'GEOID': '55017145750008', 'geometry': <shapely.geometry.polygon.Polygon object at 0x7f2c1ea7de50>}, {'GEOID': '55117875000010', 'geometry': <shapely.geometry.polygon.Polygon object at 0x7f2c1d77d090>}, {'GEOID': '55139010250019', 'geometry': <shapely.geometry.polygon.Polygon object at 0x7f2c1d332050>}, {'GEOID': '55007032250001', 'geometry': <shapely.geometry.polygon.Polygon object at 0x7f2c1ebdcd10>}, {'GEOID': '55141496750025', 'geometry': <shapely.geometry.polygon.Polygon object at 0x7f2c1d41aad0>}, {'GEOID': '55035836120027', 'geometry': <shapely.geometry.polygon.Polygon object at 0x7f2c1e626150>}, {'GEOID': '55101119500021', 'geometry': <shapely.geometry.polygon.Polygon object at 0x7f2c1daded50>}, {'GEOID': '55097363500020', 'geometry': <shapely.geometry.multipolygon.MultiPolygon object at 0x7f2c1dafbc10>}, {'GEOID': '55035836120039', 'geometry': <shapely.geometry.polygon.Polygon object at 0x7f2c1e61b1d0>}, {'GEOID': '55009429000010', 'geometry': <shapely.geometry.polygon.Polygon object at 0x7f2c1ec5a910>}, {'GEOID': '55131330250014', 'geometry': <shapely.geometry.multipolygon.MultiPolygon object at 0x7f2c1d5bdc90>}, {'GEOID': '55127286750005', 'geometry': <shapely.geometry.polygon.Polygon object at 0x7f2c1d6898d0>}, {'GEOID': '55097613250020', 'geometry': <shapely.geometry.polygon.Polygon object at 0x7f2c1daef6d0>}, {'GEOID': '55139269820032', 'geometry': <shapely.geometry.polygon.Polygon object at 0x7f2c1d33ed50>}, {'GEOID': '55105327000026', 'geometry': <shapely.geometry.multipolygon.MultiPolygon object at 0x7f2c1d9c71d0>}, {'GEOID': '55139605000022', 'geometry': <shapely.geometry.polygon.Polygon object at 0x7f2c1d2aa750>}, {'GEOID': '55139605000045', 'geometry': <shapely.geometry.polygon.Polygon object at 0x7f2c1d2c0ed0>}, {'GEOID': '55025826250105', 'geometry': <shapely.geometry.polygon.Polygon object at 0x7f2c1e826090>}, {'GEOID': '55025111500023', 'geometry': <shapely.geometry.polygon.Polygon object at 0x7f2c1e98bd90>}, {'GEOID': '55121785000002', 'geometry': <shapely.geometry.polygon.Polygon object at 0x7f2c1d74bb10>}, {'GEOID': '55009429000012', 'geometry': <shapely.geometry.polygon.Polygon object at 0x7f2c1ec5a890>}, {'GEOID': '55079054500006', 'geometry': <shapely.geometry.polygon.Polygon object at 0x7f2c1e054350>}, {'GEOID': '55081753500017', 'geometry': <shapely.geometry.multipolygon.MultiPolygon object at 0x7f2c1ddaa910>}, {'GEOID': '55097363500017', 'geometry': <shapely.geometry.multipolygon.MultiPolygon object at 0x7f2c1db58610>}, {'GEOID': '55071485750018', 'geometry': <shapely.geometry.polygon.Polygon object at 0x7f2c1e0f8790>}, {'GEOID': '55135426500004', 'geometry': <shapely.geometry.polygon.Polygon object at 0x7f2c1d3c6710>}, {'GEOID': '55047313500003', 'geometry': <shapely.geometry.polygon.Polygon object at 0x7f2c1e468650>}, {'GEOID': '55025516000010', 'geometry': <shapely.geometry.polygon.Polygon object at 0x7f2c1e834f90>}, {'GEOID': '55139884750004', 'geometry': <shapely.geometry.polygon.Polygon object at 0x7f2c1d28b850>}, {'GEOID': '55141882000029', 'geometry': <shapely.geometry.polygon.Polygon object at 0x7f2c1d23d950>}, {'GEOID': '55079273000015', 'geometry': <shapely.geometry.polygon.Polygon object at 0x7f2c1e009f90>}, {'GEOID': '55087300750020', 'geometry': <shapely.geometry.multipolygon.MultiPolygon object at 0x7f2c1dc85450>}, {'GEOID': '55053520500002', 'geometry': <shapely.geometry.polygon.Polygon object at 0x7f2c1e409750>}, {'GEOID': '55141496750026', 'geometry': <shapely.geometry.multipolygon.MultiPolygon object at 0x7f2c1d29f310>}, {'GEOID': '55139605250006', 'geometry': <shapely.geometry.polygon.Polygon object at 0x7f2c1d2d3850>}, {'GEOID': '55139508250016', 'geometry': <shapely.geometry.polygon.Polygon object at 0x7f2c1d35b350>}, {'GEOID': '55043552250002', 'geometry': <shapely.geometry.multipolygon.MultiPolygon object at 0x7f2c1e50bb90>}, {'GEOID': '55141496750027', 'geometry': <shapely.geometry.polygon.Polygon object at 0x7f2c1d276790>}, {'GEOID': '55081753500009', 'geometry': <shapely.geometry.polygon.Polygon object at 0x7f2c1dda9e90>}, {'GEOID': '55139884750002', 'geometry': <shapely.geometry.multipolygon.MultiPolygon object at 0x7f2c1d2e1d90>}, {'GEOID': '55081800750025', 'geometry': <shapely.geometry.polygon.Polygon object at 0x7f2c1ddbe790>}, {'GEOID': '55025111500024', 'geometry': <shapely.geometry.polygon.Polygon object at 0x7f2c1e98bd50>}, {'GEOID': '55141301250029', 'geometry': <shapely.geometry.polygon.Polygon object at 0x7f2c1d26de90>}, {'GEOID': '55025211250016', 'geometry': <shapely.geometry.polygon.Polygon object at 0x7f2c1e951410>}, {'GEOID': '55005206500002', 'geometry': <shapely.geometry.polygon.Polygon object at 0x7f2c25792dd0>}, {'GEOID': '55095810750003', 'geometry': <shapely.geometry.multipolygon.MultiPolygon object at 0x7f2c1db58650>}, {'GEOID': '55009351500015', 'geometry': <shapely.geometry.polygon.Polygon object at 0x7f2c1ec3dd10>}, {'GEOID': '55117730000016', 'geometry': <shapely.geometry.polygon.Polygon object at 0x7f2c1d7d60d0>}, {'GEOID': '55039240500017', 'geometry': <shapely.geometry.polygon.Polygon object at 0x7f2c1e5d4c50>}, {'GEOID': '55097613250019', 'geometry': <shapely.geometry.polygon.Polygon object at 0x7f2c1daee9d0>}, {'GEOID': '55139605250001', 'geometry': <shapely.geometry.polygon.Polygon object at 0x7f2c1d2c2890>}, {'GEOID': '55139605000046', 'geometry': <shapely.geometry.polygon.Polygon object at 0x7f2c1d2c0e90>}, {'GEOID': '55025111500025', 'geometry': <shapely.geometry.polygon.Polygon object at 0x7f2c1e984850>}, {'GEOID': '55025516000149', 'geometry': <shapely.geometry.polygon.Polygon object at 0x7f2c1e836510>}, {'GEOID': '55079273000022', 'geometry': <shapely.geometry.polygon.Polygon object at 0x7f2c1e00fd10>}, {'GEOID': '55039844250013', 'geometry': <shapely.geometry.polygon.Polygon object at 0x7f2c1e547950>}, {'GEOID': '55133831750009', 'geometry': <shapely.geometry.polygon.Polygon object at 0x7f2c1d460ad0>}, {'GEOID': '55141882000026', 'geometry': <shapely.geometry.polygon.Polygon object at 0x7f2c1d23b390>}, {'GEOID': '55035836120033', 'geometry': <shapely.geometry.polygon.Polygon object at 0x7f2c1e615910>}, {'GEOID': '55097363500024', 'geometry': <shapely.geometry.polygon.Polygon object at 0x7f2c1db598d0>}, {'GEOID': '55049539500001', 'geometry': <shapely.geometry.polygon.Polygon object at 0x7f2c1e42b750>}, {'GEOID': '55139828750001', 'geometry': <shapely.geometry.polygon.Polygon object at 0x7f2c1d2cfb90>}, {'GEOID': '55025826250115', 'geometry': <shapely.geometry.multipolygon.MultiPolygon object at 0x7f2c1e7ac850>}, {'GEOID': '55141882000028', 'geometry': <shapely.geometry.polygon.Polygon object at 0x7f2c1d23d9d0>}, {'GEOID': '55017415250016', 'geometry': <shapely.geometry.multipolygon.MultiPolygon object at 0x7f2c1eaa7a50>}, {'GEOID': '55097363500022', 'geometry': <shapely.geometry.multipolygon.MultiPolygon object at 0x7f2c1daf9350>}, {'GEOID': '55059633000064', 'geometry': <shapely.geometry.polygon.Polygon object at 0x7f2c1e2bbfd0>}, {'GEOID': '55035836120017', 'geometry': <shapely.geometry.multipolygon.MultiPolygon object at 0x7f2c1e625410>}, {'GEOID': '55081410000001', 'geometry': <shapely.geometry.multipolygon.MultiPolygon object at 0x7f2c1ddffcd0>}, {'GEOID': '55081410000006', 'geometry': <shapely.geometry.polygon.Polygon object at 0x7f2c1dea0c10>}, {'GEOID': '55025516000106', 'geometry': <shapely.geometry.polygon.Polygon object at 0x7f2c1e83ad50>}, {'GEOID': '55081410000002', 'geometry': <shapely.geometry.polygon.Polygon object at 0x7f2c1ddf0f90>}, {'GEOID': '55039681750012', 'geometry': <shapely.geometry.polygon.Polygon object at 0x7f2c1e5a7dd0>}, {'GEOID': '55025083500009', 'geometry': <shapely.geometry.polygon.Polygon object at 0x7f2c1eaf7c90>}, {'GEOID': '55087449500017', 'geometry': <shapely.geometry.polygon.Polygon object at 0x7f2c1dc42f10>}, {'GEOID': '55097613250023', 'geometry': <shapely.geometry.polygon.Polygon object at 0x7f2c1db26790>}, {'GEOID': '55039844250002', 'geometry': <shapely.geometry.polygon.Polygon object at 0x7f2c1e58b510>}, {'GEOID': '55139605000047', 'geometry': <shapely.geometry.multipolygon.MultiPolygon object at 0x7f2c1d2c1b90>}, {'GEOID': '55141882000027', 'geometry': <shapely.geometry.polygon.Polygon object at 0x7f2c1d23bfd0>}, {'GEOID': '55025826250098', 'geometry': <shapely.geometry.multipolygon.MultiPolygon object at 0x7f2c1e826e10>}, {'GEOID': '55025704000009', 'geometry': <shapely.geometry.multipolygon.MultiPolygon object at 0x7f2c1e7eac50>}, {'GEOID': '55089644750004', 'geometry': <shapely.geometry.polygon.Polygon object at 0x7f2c1ddbbfd0>}, {'GEOID': '55081410000005', 'geometry': <shapely.geometry.multipolygon.MultiPolygon object at 0x7f2c1de9ef50>}, {'GEOID': '55025146500003', 'geometry': <shapely.geometry.multipolygon.MultiPolygon object at 0x7f2c1e989690>}, {'GEOID': '55025111500145', 'geometry': <shapely.geometry.polygon.Polygon object at 0x7f2c1e977790>}, {'GEOID': '55025786250013', 'geometry': <shapely.geometry.polygon.Polygon object at 0x7f2c1e7ff650>}, {'GEOID': '55139605250026', 'geometry': <shapely.geometry.polygon.Polygon object at 0x7f2c1d2c7510>}, {'GEOID': '55139605000028', 'geometry': <shapely.geometry.polygon.Polygon object at 0x7f2c1d2b1550>}, {'GEOID': '55097613250022', 'geometry': <shapely.geometry.polygon.Polygon object at 0x7f2c1db0c150>}, {'GEOID': '55025516000150', 'geometry': <shapely.geometry.polygon.Polygon object at 0x7f2c1e837e90>}, {'GEOID': '55081410000004', 'geometry': <shapely.geometry.multipolygon.MultiPolygon object at 0x7f2c1eef9b50>}, {'GEOID': '55139605000029', 'geometry': <shapely.geometry.multipolygon.MultiPolygon object at 0x7f2c1d2b5f90>}, {'GEOID': '55105810500023', 'geometry': <shapely.geometry.multipolygon.MultiPolygon object at 0x7f2c1d9902d0>}, {'GEOID': '55025516000107', 'geometry': <shapely.geometry.multipolygon.MultiPolygon object at 0x7f2c1e8359d0>}, {'GEOID': '55047313500004', 'geometry': <shapely.geometry.multipolygon.MultiPolygon object at 0x7f2c1e46dd90>}, {'GEOID': '55039844250014', 'geometry': <shapely.geometry.polygon.Polygon object at 0x7f2c1e559710>}, {'GEOID': '55089511500007', 'geometry': <shapely.geometry.polygon.Polygon object at 0x7f2c1dc0bf50>}, {'GEOID': '55025516000111', 'geometry': <shapely.geometry.polygon.Polygon object at 0x7f2c1e8336d0>}, {'GEOID': '55025861250009', 'geometry': <shapely.geometry.polygon.Polygon object at 0x7f2c1e7c2950>}, {'GEOID': '55073469750020', 'geometry': <shapely.geometry.polygon.Polygon object at 0x7f2c1e0cc750>}, {'GEOID': '55079054500007', 'geometry': <shapely.geometry.polygon.Polygon object at 0x7f2c1e054fd0>}, {'GEOID': '55035815500023', 'geometry': <shapely.geometry.polygon.Polygon object at 0x7f2c1e6183d0>}, {'GEOID': '55079846750203', 'geometry': <shapely.geometry.polygon.Polygon object at 0x7f2c1de40950>}, {'GEOID': '55071485750020', 'geometry': <shapely.geometry.polygon.Polygon object at 0x7f2c1e0f4410>}, {'GEOID': '55139508250043', 'geometry': <shapely.geometry.polygon.Polygon object at 0x7f2c1d2eead0>}, {'GEOID': '55055379250007', 'geometry': <shapely.geometry.polygon.Polygon object at 0x7f2c1e3eed10>}, {'GEOID': '55117730000017', 'geometry': <shapely.geometry.multipolygon.MultiPolygon object at 0x7f2c1d7d6d50>}, {'GEOID': '55035726750054', 'geometry': <shapely.geometry.polygon.Polygon object at 0x7f2c1e612490>}, {'GEOID': '55133072000009', 'geometry': <shapely.geometry.polygon.Polygon object at 0x7f2c1d5a79d0>}, {'GEOID': '55139605000048', 'geometry': <shapely.geometry.multipolygon.MultiPolygon object at 0x7f2c1d2c35d0>}, {'GEOID': '55025172000009', 'geometry': <shapely.geometry.polygon.Polygon object at 0x7f2c1e99e450>}, {'GEOID': '55139605000044', 'geometry': <shapely.geometry.polygon.Polygon object at 0x7f2c1d2bf4d0>}, {'GEOID': '55035836120043', 'geometry': <shapely.geometry.polygon.Polygon object at 0x7f2c1e627a90>}]\n",
            "<class 'geopandas.geodataframe.GeoDataFrame'>\n",
            "RangeIndex: 144 entries, 0 to 143\n",
            "Data columns (total 2 columns):\n",
            " #   Column    Non-Null Count  Dtype   \n",
            "---  ------    --------------  -----   \n",
            " 0   GEOID     144 non-null    object  \n",
            " 1   geometry  144 non-null    geometry\n",
            "dtypes: geometry(1), object(1)\n",
            "memory usage: 2.4+ KB\n",
            "None\n"
          ]
        },
        {
          "output_type": "execute_result",
          "data": {
            "text/plain": [
              "<matplotlib.axes._subplots.AxesSubplot at 0x7f2c1def8990>"
            ]
          },
          "metadata": {},
          "execution_count": 55
        },
        {
          "output_type": "display_data",
          "data": {
            "image/png": "[encoded data removed]",
            "text/plain": [
              "<Figure size 432x288 with 1 Axes>"
            ]
          },
          "metadata": {
            "needs_background": "light"
          }
        }
      ]
    },
    {
      "cell_type": "code",
      "metadata": {
        "colab": {
          "base_uri": "https://localhost:8080/"
        },
        "id": "wuONO8fQ037e",
        "outputId": "a9356242-c173-4c43-9394-83753f1c24d5"
      },
      "source": [
        "try:\n",
        "  maup.doctor(election_data)\n",
        "except AssertionError as e:\n",
        "  print(e)"
      ],
      "execution_count": 26,
      "outputs": [
        {
          "output_type": "stream",
          "name": "stderr",
          "text": [
            "100%|██████████| 7078/7078 [00:37<00:00, 189.11it/s]\n"
          ]
        },
        {
          "output_type": "stream",
          "name": "stdout",
          "text": [
            "There are 210 overlaps!\n"
          ]
        }
      ]
    },
    {
      "cell_type": "code",
      "metadata": {
        "colab": {
          "base_uri": "https://localhost:8080/"
        },
        "id": "PuT2S-Az1Qaq",
        "outputId": "b96117a8-27e2-43f0-c9e6-2780e4b7139a"
      },
      "source": [
        "len(election_data['geometry'])"
      ],
      "execution_count": 27,
      "outputs": [
        {
          "output_type": "execute_result",
          "data": {
            "text/plain": [
              "7078"
            ]
          },
          "metadata": {},
          "execution_count": 27
        }
      ]
    },
    {
      "cell_type": "code",
      "metadata": {
        "colab": {
          "base_uri": "https://localhost:8080/"
        },
        "id": "x5uT2zxnMiXL",
        "outputId": "c8400649-6b1b-4f18-ff2d-9325ee3887ec"
      },
      "source": [
        "import warnings; warnings.filterwarnings('ignore', 'GeoSeries.isna', UserWarning)\n",
        "maup.progress.enabled = True\n",
        "without_overlaps_or_gaps = maup.autorepair(election_data)\n",
        "\n"
      ],
      "execution_count": 11,
      "outputs": [
        {
          "output_type": "stream",
          "name": "stderr",
          "text": [
            "100%|██████████| 7078/7078 [00:38<00:00, 185.14it/s]\n",
            "100%|██████████| 7078/7078 [00:16<00:00, 417.91it/s]\n",
            "/usr/local/lib/python3.7/dist-packages/geopandas/base.py:32: UserWarning: The indices of the two GeoSeries are different.\n",
            "  warn(\"The indices of the two GeoSeries are different.\")\n",
            "100%|██████████| 7078/7078 [00:21<00:00, 325.36it/s]\n",
            "/usr/local/lib/python3.7/dist-packages/geopandas/base.py:32: UserWarning: The indices of the two GeoSeries are different.\n",
            "  warn(\"The indices of the two GeoSeries are different.\")\n"
          ]
        }
      ]
    },
    {
      "cell_type": "code",
      "metadata": {
        "id": "1pjS6T9qWsM9"
      },
      "source": [
        "without_overlaps_or_gaps.to_file('repaired_2012-2020_Election_Data_with_2020_Wards.zip')"
      ],
      "execution_count": 12,
      "outputs": []
    },
    {
      "cell_type": "code",
      "metadata": {
        "id": "f6PTUgWd3k_R"
      },
      "source": [
        "election_data['geometry'] = without_overlaps_or_gaps"
      ],
      "execution_count": null,
      "outputs": []
    },
    {
      "cell_type": "code",
      "metadata": {
        "id": "1KRaqK3b30D4"
      },
      "source": [
        "try:\n",
        "  maup.doctor(election_data)\n",
        "except AssertionError as e:\n",
        "  print(e)"
      ],
      "execution_count": null,
      "outputs": []
    },
    {
      "cell_type": "code",
      "metadata": {
        "id": "3lUslz-S33dR"
      },
      "source": [
        "len(election_data['geometry'])"
      ],
      "execution_count": null,
      "outputs": []
    },
    {
      "cell_type": "code",
      "metadata": {
        "colab": {
          "base_uri": "https://localhost:8080/",
          "height": 1000
        },
        "id": "bJRBzErIQU3g",
        "outputId": "588fe32d-4909-48b1-bb5d-0ec284767274"
      },
      "source": [
        "print(election_data.info(verbose=True, show_counts=True, null_counts=True))\n",
        "election_data.plot()\n",
        "\n",
        "#graph = gerrychain.Graph.from_geodataframe(without_overlaps_or_gaps_df)\n",
        "# print(state_election_data.info(verbose=True, null_counts=True))\n",
        "# print('total population')\n",
        "# print(state_election_data['PERSONS'].sum())\n",
        "# graph = gerrychain.Graph.from_file('2012-2020_Election_Data_with_2020_Wards.zip')\n",
        "\n",
        "#print(list(state_election_data.columns)[0:20])\n",
        "#print(state_election_data['GEOID'].head())"
      ],
      "execution_count": 18,
      "outputs": [
        {
          "output_type": "stream",
          "name": "stdout",
          "text": [
            "<class 'geopandas.geodataframe.GeoDataFrame'>\n",
            "RangeIndex: 7078 entries, 0 to 7077\n",
            "Data columns (total 279 columns):\n",
            " #    Column      Dtype   \n",
            "---   ------      -----   \n",
            " 0    FID         int64   \n",
            " 1    GEOID       object  \n",
            " 2    CNTY_FIPS   object  \n",
            " 3    CNTY_NAME   object  \n",
            " 4    COUSUBFP    object  \n",
            " 5    MCD_FIPS    object  \n",
            " 6    MCD_NAME    object  \n",
            " 7    CTV         object  \n",
            " 8    LABEL       object  \n",
            " 9    LSAD        object  \n",
            " 10   NAME        object  \n",
            " 11   DISTRICT    object  \n",
            " 12   ASM         object  \n",
            " 13   SEN         object  \n",
            " 14   CON         object  \n",
            " 15   STR_WARDS   object  \n",
            " 16   PERSONS     int64   \n",
            " 17   PERSONS18   int64   \n",
            " 18   WHITE       int64   \n",
            " 19   BLACK       int64   \n",
            " 20   HISPANIC    int64   \n",
            " 21   ASIAN       int64   \n",
            " 22   AMINDIAN    int64   \n",
            " 23   PISLAND     int64   \n",
            " 24   OTHER       int64   \n",
            " 25   OTHERMLT    int64   \n",
            " 26   WHITE18     int64   \n",
            " 27   BLACK18     int64   \n",
            " 28   HISPANIC18  int64   \n",
            " 29   ASIAN18     int64   \n",
            " 30   AMINDIAN18  int64   \n",
            " 31   PISLAND18   int64   \n",
            " 32   OTHER18     int64   \n",
            " 33   OTHERMLT18  int64   \n",
            " 34   CDATOT20    float64 \n",
            " 35   CDADEM20    float64 \n",
            " 36   CDAREP20    float64 \n",
            " 37   CDAIND20    float64 \n",
            " 38   CDASCT20    float64 \n",
            " 39   PRETOT20    float64 \n",
            " 40   PREDEM20    float64 \n",
            " 41   PREREP20    float64 \n",
            " 42   PRECON20    float64 \n",
            " 43   PREIND20    float64 \n",
            " 44   PREIND220   float64 \n",
            " 45   PREIND320   float64 \n",
            " 46   PREIND420   float64 \n",
            " 47   PREIND520   float64 \n",
            " 48   PREIND620   float64 \n",
            " 49   PREIND720   float64 \n",
            " 50   PREIND820   float64 \n",
            " 51   PREIND920   float64 \n",
            " 52   PRESCT20    float64 \n",
            " 53   USHTOT20    float64 \n",
            " 54   USHDEM20    float64 \n",
            " 55   USHREP20    float64 \n",
            " 56   USHIND20    float64 \n",
            " 57   USHSCT20    float64 \n",
            " 58   WSATOT20    float64 \n",
            " 59   WSADEM20    float64 \n",
            " 60   WSAREP20    float64 \n",
            " 61   WSACON20    float64 \n",
            " 62   WSAIND20    float64 \n",
            " 63   WSASCT20    float64 \n",
            " 64   WSSTOT20    float64 \n",
            " 65   WSSDEM20    float64 \n",
            " 66   WSSREP20    float64 \n",
            " 67   WSSIND20    float64 \n",
            " 68   WSSSCT20    float64 \n",
            " 69   GOVTOT18    float64 \n",
            " 70   GOVREP18    float64 \n",
            " 71   GOVDEM18    float64 \n",
            " 72   GOVLIB18    float64 \n",
            " 73   GOVIND18    float64 \n",
            " 74   GOVIND218   float64 \n",
            " 75   GOVIND318   float64 \n",
            " 76   GOVREP218   float64 \n",
            " 77   GOVDEM218   float64 \n",
            " 78   GOVCON18    float64 \n",
            " 79   GOVDEM318   float64 \n",
            " 80   GOVIND418   float64 \n",
            " 81   GOVIND518   float64 \n",
            " 82   GOVDEM418   float64 \n",
            " 83   GOVDEM518   float64 \n",
            " 84   GOVSCT18    float64 \n",
            " 85   SOSTOT18    float64 \n",
            " 86   SOSREP18    float64 \n",
            " 87   SOSDEM18    float64 \n",
            " 88   SOSGRN18    float64 \n",
            " 89   SOSSCT18    float64 \n",
            " 90   TRSTOT18    float64 \n",
            " 91   TRSREP18    float64 \n",
            " 92   TRSDEM18    float64 \n",
            " 93   TRSCON18    float64 \n",
            " 94   TRSSCT18    float64 \n",
            " 95   USHTOT18    float64 \n",
            " 96   USHREP18    float64 \n",
            " 97   USHDEM18    float64 \n",
            " 98   USHIND18    float64 \n",
            " 99   USHIND218   float64 \n",
            " 100  USHDEM218   float64 \n",
            " 101  USHSCT18    float64 \n",
            " 102  USSTOT18    float64 \n",
            " 103  USSREP18    float64 \n",
            " 104  USSDEM18    float64 \n",
            " 105  USSIND18    float64 \n",
            " 106  USSSCT18    float64 \n",
            " 107  USSIND218   float64 \n",
            " 108  WAGTOT18    float64 \n",
            " 109  WAGREP18    float64 \n",
            " 110  WAGDEM18    float64 \n",
            " 111  WAGCON18    float64 \n",
            " 112  WAGSCT18    float64 \n",
            " 113  WSATOT18    float64 \n",
            " 114  WSAREP18    float64 \n",
            " 115  WSADEM18    float64 \n",
            " 116  WSAIND18    float64 \n",
            " 117  WSALIB18    float64 \n",
            " 118  WSASCT18    float64 \n",
            " 119  WSACON18    float64 \n",
            " 120  WSAREP218   float64 \n",
            " 121  WSSTOT18    float64 \n",
            " 122  WSSREP18    float64 \n",
            " 123  WSSDEM18    float64 \n",
            " 124  WSSSCT18    float64 \n",
            " 125  WSSIND18    float64 \n",
            " 126  CDATOT16    float64 \n",
            " 127  CDADEM16    float64 \n",
            " 128  CDADEM216   float64 \n",
            " 129  CDAREP16    float64 \n",
            " 130  CDAIND16    float64 \n",
            " 131  CDASCT16    float64 \n",
            " 132  PRETOT16    float64 \n",
            " 133  PREDEM16    float64 \n",
            " 134  PREREP16    float64 \n",
            " 135  PREGRN16    float64 \n",
            " 136  PRELIB16    float64 \n",
            " 137  PRECON16    float64 \n",
            " 138  PREIND16    float64 \n",
            " 139  PREIND216   float64 \n",
            " 140  PREIND316   float64 \n",
            " 141  PREIND416   float64 \n",
            " 142  PREIND516   float64 \n",
            " 143  PREIND616   float64 \n",
            " 144  PREIND716   float64 \n",
            " 145  PREIND816   float64 \n",
            " 146  PREIND916   float64 \n",
            " 147  PREIND1016  float64 \n",
            " 148  PREIND1116  float64 \n",
            " 149  PRESCT16    float64 \n",
            " 150  USHTOT16    float64 \n",
            " 151  USHDEM16    float64 \n",
            " 152  USHDEM216   float64 \n",
            " 153  USHREP16    float64 \n",
            " 154  USHGRN16    float64 \n",
            " 155  USHLIB16    float64 \n",
            " 156  USHIND16    float64 \n",
            " 157  USHSCT16    float64 \n",
            " 158  USSTOT16    float64 \n",
            " 159  USSDEM16    float64 \n",
            " 160  USSREP16    float64 \n",
            " 161  USSREP216   float64 \n",
            " 162  USSLIB16    float64 \n",
            " 163  USSSCT16    float64 \n",
            " 164  WSATOT16    float64 \n",
            " 165  WSADEM16    float64 \n",
            " 166  WSAREP16    float64 \n",
            " 167  WSALIB16    float64 \n",
            " 168  WSAIND16    float64 \n",
            " 169  WSASCT16    float64 \n",
            " 170  WSSTOT16    float64 \n",
            " 171  WSSDEM16    float64 \n",
            " 172  WSSREP16    float64 \n",
            " 173  WSSIND16    float64 \n",
            " 174  WSSSCT16    float64 \n",
            " 175  GOVTOT14    float64 \n",
            " 176  GOVDEM14    float64 \n",
            " 177  GOVREP14    float64 \n",
            " 178  GOVIND14    float64 \n",
            " 179  GOVIND214   float64 \n",
            " 180  GOVIND314   float64 \n",
            " 181  GOVREP214   float64 \n",
            " 182  GOVCON14    float64 \n",
            " 183  GOVIND414   float64 \n",
            " 184  GOVIND514   float64 \n",
            " 185  GOVREP314   float64 \n",
            " 186  GOVSCT14    float64 \n",
            " 187  SOSTOT14    float64 \n",
            " 188  SOSDEM14    float64 \n",
            " 189  SOSREP14    float64 \n",
            " 190  SOSCON14    float64 \n",
            " 191  SOSIND14    float64 \n",
            " 192  SOSSCT14    float64 \n",
            " 193  TRSTOT14    float64 \n",
            " 194  TRSDEM14    float64 \n",
            " 195  TRSREP14    float64 \n",
            " 196  TRSCON14    float64 \n",
            " 197  TRSIND14    float64 \n",
            " 198  TRSIND214   float64 \n",
            " 199  TRSSCT14    float64 \n",
            " 200  USHTOT14    float64 \n",
            " 201  USHDEM14    float64 \n",
            " 202  USHREP14    float64 \n",
            " 203  USHIND14    float64 \n",
            " 204  USHREP214   float64 \n",
            " 205  USHIND214   float64 \n",
            " 206  USHSCT14    float64 \n",
            " 207  WAGTOT14    float64 \n",
            " 208  WAGDEM14    float64 \n",
            " 209  WAGREP14    float64 \n",
            " 210  WAGIND14    float64 \n",
            " 211  WAGSCT14    float64 \n",
            " 212  WSATOT14    float64 \n",
            " 213  WSADEM14    float64 \n",
            " 214  WSAREP14    float64 \n",
            " 215  WSAIND14    float64 \n",
            " 216  WSAREP214   float64 \n",
            " 217  WSASCT14    float64 \n",
            " 218  WSSTOT14    float64 \n",
            " 219  WSSDEM14    float64 \n",
            " 220  WSSREP14    float64 \n",
            " 221  WSSIND14    float64 \n",
            " 222  WSSSCT14    float64 \n",
            " 223  CDATOT12    float64 \n",
            " 224  CDADEM12    float64 \n",
            " 225  CDADEM212   float64 \n",
            " 226  CDAREP12    float64 \n",
            " 227  CDAIND12    float64 \n",
            " 228  CDASCT12    float64 \n",
            " 229  GOVTOT12    float64 \n",
            " 230  GOVDEM12    float64 \n",
            " 231  GOVREP12    float64 \n",
            " 232  GOVIND12    float64 \n",
            " 233  GOVSCT12    float64 \n",
            " 234  PRETOT12    float64 \n",
            " 235  PREDEM12    float64 \n",
            " 236  PREREP12    float64 \n",
            " 237  PRECON12    float64 \n",
            " 238  PREIND12    float64 \n",
            " 239  PREIND212   float64 \n",
            " 240  PREIND312   float64 \n",
            " 241  PREIND412   float64 \n",
            " 242  PREIND512   float64 \n",
            " 243  PREIND612   float64 \n",
            " 244  PRESCT12    float64 \n",
            " 245  USHTOT12    float64 \n",
            " 246  USHDEM12    float64 \n",
            " 247  USHREP12    float64 \n",
            " 248  USHIND12    float64 \n",
            " 249  USHSCT12    float64 \n",
            " 250  USSTOT12    float64 \n",
            " 251  USSDEM12    float64 \n",
            " 252  USSREP12    float64 \n",
            " 253  USSCON12    float64 \n",
            " 254  USSIND12    float64 \n",
            " 255  USSIND212   float64 \n",
            " 256  USSIND312   float64 \n",
            " 257  USSSCT12    float64 \n",
            " 258  WSATOT12    float64 \n",
            " 259  WSADEM12    float64 \n",
            " 260  WSADEM212   float64 \n",
            " 261  WSAREP12    float64 \n",
            " 262  WSAREP212   float64 \n",
            " 263  WSAIND12    float64 \n",
            " 264  WSAIND212   float64 \n",
            " 265  WSASCT12    float64 \n",
            " 266  WSSTOT12    float64 \n",
            " 267  WSSDEM12    float64 \n",
            " 268  WSSREP12    float64 \n",
            " 269  WSSREP212   float64 \n",
            " 270  WSSCON12    float64 \n",
            " 271  WSSIND12    float64 \n",
            " 272  WSSSCT12    float64 \n",
            " 273  WSSAME12    float64 \n",
            " 274  Shape_STAr  float64 \n",
            " 275  Shape_STLe  float64 \n",
            " 276  SHAPE_Leng  float64 \n",
            " 277  SHAPE_Area  float64 \n",
            " 278  geometry    geometry\n",
            "dtypes: float64(244), geometry(1), int64(19), object(15)\n",
            "memory usage: 15.1+ MB\n",
            "None\n"
          ]
        },
        {
          "output_type": "execute_result",
          "data": {
            "text/plain": [
              "<matplotlib.axes._subplots.AxesSubplot at 0x7f2c1e4a7750>"
            ]
          },
          "metadata": {},
          "execution_count": 18
        },
        {
          "output_type": "display_data",
          "data": {
            "image/png": "[encoded data removed]",
            "text/plain": [
              "<Figure size 432x288 with 1 Axes>"
            ]
          },
          "metadata": {
            "needs_background": "light"
          }
        }
      ]
    },
    {
      "cell_type": "code",
      "metadata": {
        "id": "uJHNzfhkMxSO"
      },
      "source": [
        "state_election_ward_ids = set(state_election_data['GEOID'])\n",
        "state_ward_ids = set(wards['GEOID'])\n",
        "wards_only_ward_ids = state_ward_ids - state_election_ward_ids\n",
        "print(len(wards_only_ward_ids))\n",
        "state_election_only_ward_ids = state_election_ward_ids - state_ward_ids\n",
        "print(len(state_election_only_ward_ids))"
      ],
      "execution_count": null,
      "outputs": []
    },
    {
      "cell_type": "code",
      "metadata": {
        "id": "lULNqT3DO8kb"
      },
      "source": [
        "print(len([(1056, 1153), (5177, 5181), (4322, 4326), (795, 814), (1956, 1957), (4541, 4542), (2850, 2851), (1805, 1875), (586, 800), (5859, 5861), (6902, 6915), (793, 811), (5176, 5181), (5626, 5627), (5519, 5570), (6066, 6082), (2260, 2261), (5172, 5173), (5453, 5465), (5766, 5770), (5820, 5834), (6964, 6965), (5103, 5149), (6910, 6928), (1056, 1065), (2693, 2785), (1407, 1418), (2511, 2545), (2955, 3014), (5407, 5436), (5524, 5531), (3021, 3023), (824, 826), (1336, 1391), (1360, 1410), (2062, 2063), (5746, 5747), (6864, 6867), (2149, 2152), (5001, 5031), (2337, 2338), (3890, 3895), (2775, 2780), (5710, 5721), (2113, 2119), (3019, 3023), (43, 57), (5327, 5328), (1814, 1815), (4970, 4971), (3900, 3965), (5524, 5533), (6920, 6921), (5755, 5759), (1380, 1409), (1041, 1092), (2760, 2788), (2836, 2837), (83, 89), (493, 531), (1058, 1071), (5457, 5499), (475, 476), (140, 149), (1740, 1742), (5172, 5174), (93, 147), (1711, 1716), (2148, 2152), (3882, 3914), (4968, 4971), (1058, 1099), (4562, 4612), (5452, 5465), (6785, 6828), (2864, 2881), (2284, 2308), (3022, 3023), (1056, 1066), (3906, 3907), (5568, 5631), (6722, 6723), (6911, 6932), (2007, 2008), (2131, 2132), (2631, 2633), (85, 89), (2266, 2267), (1741, 1742), (6684, 6812), (6749, 6752), (825, 826), (1053, 1153), (6859, 6868), (6116, 6307), (2847, 2849), (4900, 5308), (590, 606), (5342, 5390), (716, 762), (1059, 1098), (6717, 6718), (474, 476), (2525, 2550), (6785, 6821), (1341, 1442), (1966, 1967), (3905, 3910), (3998, 3999), (5518, 5570), (4730, 4748), (2848, 2849), (2846, 2849), (4179, 4284), (2966, 2971), (5468, 5475), (5712, 5721), (551, 552), (6615, 6712), (87, 89), (6599, 6606), (276, 278), (5175, 5181), (1041, 1153), (3049, 3050), (3074, 3075), (1041, 1068), (1115, 1123), (3020, 3023), (82, 89), (5165, 5166), (5178, 5181), (1062, 1151), (3922, 3940), (5552, 5565), (5520, 5564), (2032, 2038), (2179, 2194), (1259, 1268), (4898, 5307), (6735, 6736), (4160, 4315), (84, 89), (5110, 5111), (6684, 6813), (6588, 6601), (1024, 1106), (2763, 2775), (6129, 6134), (81, 89), (1958, 2040), (2027, 2030), (4460, 4490), (447, 448), (1343, 1344), (5524, 5530), (2490, 2830), (2886, 2887), (844, 1198), (4324, 4326), (6901, 6912), (108, 109), (6785, 6820), (5653, 5673), (7015, 7038), (4883, 4889), (1058, 1091), (4969, 4971), (6785, 6825), (944, 948), (2031, 2032), (2336, 2338), (1663, 1802), (3882, 3932), (4296, 4303), (5569, 5631), (6191, 6225), (5711, 5721), (4453, 4454), (6900, 6914), (1824, 1875), (1965, 1967), (3885, 3975), (830, 831), (1854, 1855), (4686, 4687), (6983, 7007), (5858, 5861), (4563, 4564), (455, 457), (2017, 2018), (2369, 2421), (86, 89), (5131, 5137), (5402, 5403), (1062, 1094), (789, 790), (2537, 2607), (1057, 1070), (5099, 5148), (2154, 2169), (1944, 1945), (4437, 4452), (5524, 5532), (4323, 4326), (1872, 1876), (6883, 6919), (4048, 4088), (2043, 2044), (2688, 2690)]))\n",
        "wards[~wards['GEOID'].isin(wards_only_ward_ids)].plot()\n",
        "# wards_only_ward_ids = pandas.DataFrame({\n",
        "#     'GEOID': np.array(list(wards_only_ward_ids), dtype=object)\n",
        "# })\n",
        "\n",
        "# print(wards_only_ward_ids.info())\n",
        "# outlier_wards = pandas.merge(wards, state_election_data, on='GEOID', how = 'outer')\n",
        "# print(len(outlier_wards))\n",
        "# outlier_wards.plot()\n",
        "# print(wards_only_ward_ids)"
      ],
      "execution_count": null,
      "outputs": []
    }
  ]
}