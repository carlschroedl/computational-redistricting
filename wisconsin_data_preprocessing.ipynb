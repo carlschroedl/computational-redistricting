{
  "nbformat": 4,
  "nbformat_minor": 0,
  "metadata": {
    "colab": {
      "name": "wisconsin_data_preprocessing",
      "provenance": [],
      "collapsed_sections": [],
      "authorship_tag": "ABX9TyPhBytfGVZam5jdaxF5E2rH",
      "include_colab_link": true
    },
    "kernelspec": {
      "name": "python3",
      "display_name": "Python 3"
    },
    "language_info": {
      "name": "python"
    }
  },
  "cells": [
    {
      "cell_type": "markdown",
      "metadata": {
        "id": "view-in-github",
        "colab_type": "text"
      },
      "source": [
        "<a href=\"https://colab.research.google.com/github/carlschroedl/computational-redistricting/blob/main/wisconsin_data_preprocessing.ipynb\" target=\"_parent\"><img src=\"https://colab.research.google.com/assets/colab-badge.svg\" alt=\"Open In Colab\"/></a>"
      ]
    },
    {
      "cell_type": "code",
      "metadata": {
        "colab": {
          "base_uri": "https://localhost:8080/"
        },
        "id": "Wvu9qARnK5yk",
        "outputId": "d5cc110c-5014-4293-d613-cfdc779f696c"
      },
      "source": [
        "!curl -O 'https://legis.wisconsin.gov/ltsb/gisdocs/Data2020/WI_WARDS_2020_TIGER_PL94171_DOJ_Fields.zip'"
      ],
      "execution_count": null,
      "outputs": [
        {
          "output_type": "stream",
          "name": "stdout",
          "text": [
            "  % Total    % Received % Xferd  Average Speed   Time    Time     Time  Current\n",
            "                                 Dload  Upload   Total   Spent    Left  Speed\n",
            "100 15.8M  100 15.8M    0     0  4902k      0  0:00:03  0:00:03 --:--:-- 4901k\n"
          ]
        }
      ]
    },
    {
      "cell_type": "code",
      "metadata": {
        "id": "z6GXPImrLOee",
        "colab": {
          "base_uri": "https://localhost:8080/"
        },
        "outputId": "0d33484b-f490-4431-8576-613d21030e05"
      },
      "source": [
        "!curl -O 'https://raw.githubusercontent.com/alarm-redist/census-2020/main/vest-2020/wi/wi_2020_2020_vtd.csv'"
      ],
      "execution_count": null,
      "outputs": [
        {
          "output_type": "stream",
          "name": "stdout",
          "text": [
            "  % Total    % Received % Xferd  Average Speed   Time    Time     Time  Current\n",
            "                                 Dload  Upload   Total   Spent    Left  Speed\n",
            "100  410k  100  410k    0     0  1565k      0 --:--:-- --:--:-- --:--:-- 1565k\n"
          ]
        }
      ]
    },
    {
      "cell_type": "code",
      "metadata": {
        "id": "2x9yyDlgWM6K",
        "colab": {
          "base_uri": "https://localhost:8080/"
        },
        "outputId": "f1e24891-a49f-4cdb-9ab4-14a780e7c5af"
      },
      "source": [
        "# https://data-ltsb.opendata.arcgis.com/datasets/2012-2020-election-data-with-2020-wards/explore\n",
        "!curl --output '2012-2020_Election_Data_with_2020_Wards.zip' -O 'https://opendata.arcgis.com/api/v3/datasets/f67c2e7f43bb432687b4a42bee50a16c_0/downloads/data?format=shp&spatialRefId=3857' \\\n",
        "  "
      ],
      "execution_count": null,
      "outputs": [
        {
          "output_type": "stream",
          "name": "stdout",
          "text": [
            "  % Total    % Received % Xferd  Average Speed   Time    Time     Time  Current\n",
            "                                 Dload  Upload   Total   Spent    Left  Speed\n",
            "100 21.5M    0 21.5M    0     0  22.8M      0 --:--:-- --:--:-- --:--:-- 22.8M\n"
          ]
        }
      ]
    },
    {
      "cell_type": "code",
      "metadata": {
        "id": "pP0bsZnuXIHP"
      },
      "source": [
        ""
      ],
      "execution_count": null,
      "outputs": []
    },
    {
      "cell_type": "code",
      "metadata": {
        "id": "DVkxv9i1N0PP",
        "colab": {
          "base_uri": "https://localhost:8080/"
        },
        "outputId": "2856290e-2f8f-4dd3-aeba-789a4e6af1ce"
      },
      "source": [
        "!pip install geopandas matplotlib gerrychain maup"
      ],
      "execution_count": null,
      "outputs": [
        {
          "output_type": "stream",
          "name": "stdout",
          "text": [
            "Requirement already satisfied: geopandas in /usr/local/lib/python3.7/dist-packages (0.9.0)\n",
            "Requirement already satisfied: matplotlib in /usr/local/lib/python3.7/dist-packages (3.2.2)\n",
            "Requirement already satisfied: gerrychain in /usr/local/lib/python3.7/dist-packages (0.2.17)\n",
            "Requirement already satisfied: maup in /usr/local/lib/python3.7/dist-packages (1.0.3)\n",
            "Requirement already satisfied: pyproj>=2.2.0 in /usr/local/lib/python3.7/dist-packages (from geopandas) (3.2.1)\n",
            "Requirement already satisfied: fiona>=1.8 in /usr/local/lib/python3.7/dist-packages (from geopandas) (1.8.20)\n",
            "Requirement already satisfied: pandas>=0.24.0 in /usr/local/lib/python3.7/dist-packages (from geopandas) (1.3.3)\n",
            "Requirement already satisfied: shapely>=1.6 in /usr/local/lib/python3.7/dist-packages (from geopandas) (1.7.1)\n",
            "Requirement already satisfied: attrs>=17 in /usr/local/lib/python3.7/dist-packages (from fiona>=1.8->geopandas) (21.2.0)\n",
            "Requirement already satisfied: cligj>=0.5 in /usr/local/lib/python3.7/dist-packages (from fiona>=1.8->geopandas) (0.7.2)\n",
            "Requirement already satisfied: certifi in /usr/local/lib/python3.7/dist-packages (from fiona>=1.8->geopandas) (2021.5.30)\n",
            "Requirement already satisfied: click-plugins>=1.0 in /usr/local/lib/python3.7/dist-packages (from fiona>=1.8->geopandas) (1.1.1)\n",
            "Requirement already satisfied: munch in /usr/local/lib/python3.7/dist-packages (from fiona>=1.8->geopandas) (2.5.0)\n",
            "Requirement already satisfied: six>=1.7 in /usr/local/lib/python3.7/dist-packages (from fiona>=1.8->geopandas) (1.15.0)\n",
            "Requirement already satisfied: click>=4.0 in /usr/local/lib/python3.7/dist-packages (from fiona>=1.8->geopandas) (7.1.2)\n",
            "Requirement already satisfied: setuptools in /usr/local/lib/python3.7/dist-packages (from fiona>=1.8->geopandas) (57.4.0)\n",
            "Requirement already satisfied: python-dateutil>=2.7.3 in /usr/local/lib/python3.7/dist-packages (from pandas>=0.24.0->geopandas) (2.8.2)\n",
            "Requirement already satisfied: pytz>=2017.3 in /usr/local/lib/python3.7/dist-packages (from pandas>=0.24.0->geopandas) (2018.9)\n",
            "Requirement already satisfied: numpy>=1.17.3 in /usr/local/lib/python3.7/dist-packages (from pandas>=0.24.0->geopandas) (1.21.2)\n",
            "Requirement already satisfied: cycler>=0.10 in /usr/local/lib/python3.7/dist-packages (from matplotlib) (0.10.0)\n",
            "Requirement already satisfied: kiwisolver>=1.0.1 in /usr/local/lib/python3.7/dist-packages (from matplotlib) (1.3.2)\n",
            "Requirement already satisfied: pyparsing!=2.0.4,!=2.1.2,!=2.1.6,>=2.0.1 in /usr/local/lib/python3.7/dist-packages (from matplotlib) (2.4.7)\n",
            "Requirement already satisfied: networkx in /usr/local/lib/python3.7/dist-packages (from gerrychain) (2.6.3)\n",
            "Requirement already satisfied: scipy in /usr/local/lib/python3.7/dist-packages (from gerrychain) (1.4.1)\n",
            "Requirement already satisfied: tqdm<5.0.0,>=4.61.1 in /usr/local/lib/python3.7/dist-packages (from maup) (4.62.2)\n"
          ]
        }
      ]
    },
    {
      "cell_type": "code",
      "metadata": {
        "id": "y8LfWxpuNpRe"
      },
      "source": [
        "import os\n",
        "import geopandas\n",
        "import pandas\n",
        "import matplotlib.pyplot as plt\n",
        "import numpy as np\n",
        "import gerrychain\n",
        "import maup"
      ],
      "execution_count": null,
      "outputs": []
    },
    {
      "cell_type": "code",
      "metadata": {
        "id": "HXU7zljRQQPi"
      },
      "source": [
        "wards = geopandas.read_file('WI_WARDS_2020_TIGER_PL94171_DOJ_Fields.zip')"
      ],
      "execution_count": null,
      "outputs": []
    },
    {
      "cell_type": "code",
      "metadata": {
        "id": "NDXfgeTzQJ-Z"
      },
      "source": [
        "#votes = pandas.read_csv('wi_2020_2020_vtd.csv')"
      ],
      "execution_count": null,
      "outputs": []
    },
    {
      "cell_type": "code",
      "metadata": {
        "id": "EmafPQE-QVy7",
        "colab": {
          "base_uri": "https://localhost:8080/"
        },
        "outputId": "cb047fa7-b7b9-43fb-cb39-cb25d623d65f"
      },
      "source": [
        "print(wards.info())\n",
        "print(wards['GEOID'].head())\n",
        "print(wards['WARDID'].head())\n",
        "print(set(wards['GEOID']) == set(wards['WARDID']))\n"
      ],
      "execution_count": null,
      "outputs": [
        {
          "output_type": "stream",
          "name": "stdout",
          "text": [
            "<class 'geopandas.geodataframe.GeoDataFrame'>\n",
            "RangeIndex: 7136 entries, 0 to 7135\n",
            "Data columns (total 36 columns):\n",
            " #   Column      Non-Null Count  Dtype   \n",
            "---  ------      --------------  -----   \n",
            " 0   GEOID       7136 non-null   object  \n",
            " 1   WARDID      7136 non-null   object  \n",
            " 2   CNTY_FIPS   7136 non-null   object  \n",
            " 3   CNTY_NAME   7136 non-null   object  \n",
            " 4   MCD_FIPS    7136 non-null   object  \n",
            " 5   MCD_NAME    7136 non-null   object  \n",
            " 6   COUSUBFP    7136 non-null   object  \n",
            " 7   LSAD        7136 non-null   object  \n",
            " 8   CTV         7136 non-null   object  \n",
            " 9   ASM         7136 non-null   object  \n",
            " 10  SEN         7136 non-null   object  \n",
            " 11  CON         7136 non-null   object  \n",
            " 12  LABEL       7136 non-null   object  \n",
            " 13  STR_WARDS   7136 non-null   object  \n",
            " 14  DISTRICT    7136 non-null   object  \n",
            " 15  PERSONS     7136 non-null   int64   \n",
            " 16  HISPANIC    7136 non-null   int64   \n",
            " 17  WHITE       7136 non-null   int64   \n",
            " 18  BLACK       7136 non-null   int64   \n",
            " 19  ASIAN       7136 non-null   int64   \n",
            " 20  AMINDIAN    7136 non-null   int64   \n",
            " 21  PISLAND     7136 non-null   int64   \n",
            " 22  OTHER       7136 non-null   int64   \n",
            " 23  OTHERMLT    7136 non-null   int64   \n",
            " 24  PERSONS18   7136 non-null   int64   \n",
            " 25  HISPANIC18  7136 non-null   int64   \n",
            " 26  WHITE18     7136 non-null   int64   \n",
            " 27  BLACK18     7136 non-null   int64   \n",
            " 28  ASIAN18     7136 non-null   int64   \n",
            " 29  AMINDIAN18  7136 non-null   int64   \n",
            " 30  PISLAND18   7136 non-null   int64   \n",
            " 31  OTHER18     7136 non-null   int64   \n",
            " 32  OTHERMLT18  7136 non-null   int64   \n",
            " 33  Shape_Leng  7136 non-null   float64 \n",
            " 34  Shape_Area  7136 non-null   float64 \n",
            " 35  geometry    7136 non-null   geometry\n",
            "dtypes: float64(2), geometry(1), int64(18), object(15)\n",
            "memory usage: 2.0+ MB\n",
            "None\n",
            "0    55001002750001\n",
            "1    55001002750002\n",
            "2    55001002750003\n",
            "3    55001002750004\n",
            "4    55001003000001\n",
            "Name: GEOID, dtype: object\n",
            "0    55001002750001\n",
            "1    55001002750002\n",
            "2    55001002750003\n",
            "3    55001002750004\n",
            "4    55001003000001\n",
            "Name: WARDID, dtype: object\n",
            "True\n"
          ]
        }
      ]
    },
    {
      "cell_type": "code",
      "metadata": {
        "id": "nyb8-Q-4XKmd"
      },
      "source": [
        "state_election_data = geopandas.read_file('2012-2020_Election_Data_with_2020_Wards.zip')"
      ],
      "execution_count": null,
      "outputs": []
    },
    {
      "cell_type": "code",
      "metadata": {
        "colab": {
          "base_uri": "https://localhost:8080/"
        },
        "id": "x5uT2zxnMiXL",
        "outputId": "2552ea81-5530-4c36-e1cb-e4283337742e"
      },
      "source": [
        "import warnings; warnings.filterwarnings('ignore', 'GeoSeries.isna', UserWarning)\n",
        "maup.progress.enabled = True\n",
        "without_overlaps_or_gaps = maup.autorepair(state_election_data)\n",
        "\n"
      ],
      "execution_count": null,
      "outputs": [
        {
          "output_type": "stream",
          "name": "stderr",
          "text": [
            "100%|██████████| 7078/7078 [00:37<00:00, 190.68it/s]\n",
            "100%|██████████| 7078/7078 [00:20<00:00, 349.08it/s]\n",
            "/usr/local/lib/python3.7/dist-packages/geopandas/base.py:32: UserWarning: The indices of the two GeoSeries are different.\n",
            "  warn(\"The indices of the two GeoSeries are different.\")\n",
            "100%|██████████| 7078/7078 [00:24<00:00, 283.34it/s]\n",
            "/usr/local/lib/python3.7/dist-packages/geopandas/base.py:32: UserWarning: The indices of the two GeoSeries are different.\n",
            "  warn(\"The indices of the two GeoSeries are different.\")\n"
          ]
        }
      ]
    },
    {
      "cell_type": "code",
      "metadata": {
        "id": "1pjS6T9qWsM9"
      },
      "source": [
        "without_overlaps_or_gaps.to_file('repaired_2012-2020_Election_Data_with_2020_Wards.zip')"
      ],
      "execution_count": null,
      "outputs": []
    },
    {
      "cell_type": "code",
      "metadata": {
        "colab": {
          "base_uri": "https://localhost:8080/",
          "height": 306
        },
        "id": "bJRBzErIQU3g",
        "outputId": "54b845f7-3bdb-48d2-e592-06b6e1cf57ab"
      },
      "source": [
        "without_overlaps_or_gaps_df = geopandas.GeoDataFrame(without_overlaps_or_gaps)\n",
        "without_overlaps_or_gaps_df.plot()\n",
        "#graph = gerrychain.Graph.from_geodataframe(without_overlaps_or_gaps_df)\n",
        "# print(state_election_data.info(verbose=True, null_counts=True))\n",
        "# print('total population')\n",
        "# print(state_election_data['PERSONS'].sum())\n",
        "# graph = gerrychain.Graph.from_file('2012-2020_Election_Data_with_2020_Wards.zip')\n",
        "\n",
        "#print(list(state_election_data.columns)[0:20])\n",
        "#print(state_election_data['GEOID'].head())"
      ],
      "execution_count": null,
      "outputs": [
        {
          "output_type": "execute_result",
          "data": {
            "text/plain": [
              "<matplotlib.axes._subplots.AxesSubplot at 0x7f14aeb73ed0>"
            ]
          },
          "metadata": {},
          "execution_count": 20
        },
        {
          "output_type": "display_data",
          "data": {
            "image/png": "[encoded data removed]",
            "text/plain": [
              "<Figure size 432x288 with 1 Axes>"
            ]
          },
          "metadata": {
            "needs_background": "light"
          }
        }
      ]
    },
    {
      "cell_type": "code",
      "metadata": {
        "id": "uJHNzfhkMxSO"
      },
      "source": [
        "state_election_ward_ids = set(state_election_data['GEOID'])\n",
        "state_ward_ids = set(wards['GEOID'])\n",
        "wards_only_ward_ids = state_ward_ids - state_election_ward_ids\n",
        "print(len(wards_only_ward_ids))\n",
        "state_election_only_ward_ids = state_election_ward_ids - state_ward_ids\n",
        "print(len(state_election_only_ward_ids))"
      ],
      "execution_count": null,
      "outputs": []
    },
    {
      "cell_type": "code",
      "metadata": {
        "colab": {
          "base_uri": "https://localhost:8080/",
          "height": 269
        },
        "id": "lULNqT3DO8kb",
        "outputId": "d2e86bfd-3a05-4cde-ee8f-0d19ad243aab"
      },
      "source": [
        "print(len([(1056, 1153), (5177, 5181), (4322, 4326), (795, 814), (1956, 1957), (4541, 4542), (2850, 2851), (1805, 1875), (586, 800), (5859, 5861), (6902, 6915), (793, 811), (5176, 5181), (5626, 5627), (5519, 5570), (6066, 6082), (2260, 2261), (5172, 5173), (5453, 5465), (5766, 5770), (5820, 5834), (6964, 6965), (5103, 5149), (6910, 6928), (1056, 1065), (2693, 2785), (1407, 1418), (2511, 2545), (2955, 3014), (5407, 5436), (5524, 5531), (3021, 3023), (824, 826), (1336, 1391), (1360, 1410), (2062, 2063), (5746, 5747), (6864, 6867), (2149, 2152), (5001, 5031), (2337, 2338), (3890, 3895), (2775, 2780), (5710, 5721), (2113, 2119), (3019, 3023), (43, 57), (5327, 5328), (1814, 1815), (4970, 4971), (3900, 3965), (5524, 5533), (6920, 6921), (5755, 5759), (1380, 1409), (1041, 1092), (2760, 2788), (2836, 2837), (83, 89), (493, 531), (1058, 1071), (5457, 5499), (475, 476), (140, 149), (1740, 1742), (5172, 5174), (93, 147), (1711, 1716), (2148, 2152), (3882, 3914), (4968, 4971), (1058, 1099), (4562, 4612), (5452, 5465), (6785, 6828), (2864, 2881), (2284, 2308), (3022, 3023), (1056, 1066), (3906, 3907), (5568, 5631), (6722, 6723), (6911, 6932), (2007, 2008), (2131, 2132), (2631, 2633), (85, 89), (2266, 2267), (1741, 1742), (6684, 6812), (6749, 6752), (825, 826), (1053, 1153), (6859, 6868), (6116, 6307), (2847, 2849), (4900, 5308), (590, 606), (5342, 5390), (716, 762), (1059, 1098), (6717, 6718), (474, 476), (2525, 2550), (6785, 6821), (1341, 1442), (1966, 1967), (3905, 3910), (3998, 3999), (5518, 5570), (4730, 4748), (2848, 2849), (2846, 2849), (4179, 4284), (2966, 2971), (5468, 5475), (5712, 5721), (551, 552), (6615, 6712), (87, 89), (6599, 6606), (276, 278), (5175, 5181), (1041, 1153), (3049, 3050), (3074, 3075), (1041, 1068), (1115, 1123), (3020, 3023), (82, 89), (5165, 5166), (5178, 5181), (1062, 1151), (3922, 3940), (5552, 5565), (5520, 5564), (2032, 2038), (2179, 2194), (1259, 1268), (4898, 5307), (6735, 6736), (4160, 4315), (84, 89), (5110, 5111), (6684, 6813), (6588, 6601), (1024, 1106), (2763, 2775), (6129, 6134), (81, 89), (1958, 2040), (2027, 2030), (4460, 4490), (447, 448), (1343, 1344), (5524, 5530), (2490, 2830), (2886, 2887), (844, 1198), (4324, 4326), (6901, 6912), (108, 109), (6785, 6820), (5653, 5673), (7015, 7038), (4883, 4889), (1058, 1091), (4969, 4971), (6785, 6825), (944, 948), (2031, 2032), (2336, 2338), (1663, 1802), (3882, 3932), (4296, 4303), (5569, 5631), (6191, 6225), (5711, 5721), (4453, 4454), (6900, 6914), (1824, 1875), (1965, 1967), (3885, 3975), (830, 831), (1854, 1855), (4686, 4687), (6983, 7007), (5858, 5861), (4563, 4564), (455, 457), (2017, 2018), (2369, 2421), (86, 89), (5131, 5137), (5402, 5403), (1062, 1094), (789, 790), (2537, 2607), (1057, 1070), (5099, 5148), (2154, 2169), (1944, 1945), (4437, 4452), (5524, 5532), (4323, 4326), (1872, 1876), (6883, 6919), (4048, 4088), (2043, 2044), (2688, 2690)]))\n",
        "wards[~wards['GEOID'].isin(wards_only_ward_ids)].plot()\n",
        "# wards_only_ward_ids = pandas.DataFrame({\n",
        "#     'GEOID': np.array(list(wards_only_ward_ids), dtype=object)\n",
        "# })\n",
        "\n",
        "# print(wards_only_ward_ids.info())\n",
        "# outlier_wards = pandas.merge(wards, state_election_data, on='GEOID', how = 'outer')\n",
        "# print(len(outlier_wards))\n",
        "# outlier_wards.plot()\n",
        "# print(wards_only_ward_ids)"
      ],
      "execution_count": null,
      "outputs": [
        {
          "output_type": "stream",
          "name": "stdout",
          "text": [
            "210\n"
          ]
        },
        {
          "output_type": "error",
          "ename": "NameError",
          "evalue": "ignored",
          "traceback": [
            "\u001b[0;31m---------------------------------------------------------------------------\u001b[0m",
            "\u001b[0;31mNameError\u001b[0m                                 Traceback (most recent call last)",
            "\u001b[0;32m<ipython-input-18-3e2cb4dab1b9>\u001b[0m in \u001b[0;36m<module>\u001b[0;34m()\u001b[0m\n\u001b[1;32m      1\u001b[0m \u001b[0mprint\u001b[0m\u001b[0;34m(\u001b[0m\u001b[0mlen\u001b[0m\u001b[0;34m(\u001b[0m\u001b[0;34m[\u001b[0m\u001b[0;34m(\u001b[0m\u001b[0;36m1056\u001b[0m\u001b[0;34m,\u001b[0m \u001b[0;36m1153\u001b[0m\u001b[0;34m)\u001b[0m\u001b[0;34m,\u001b[0m \u001b[0;34m(\u001b[0m\u001b[0;36m5177\u001b[0m\u001b[0;34m,\u001b[0m \u001b[0;36m5181\u001b[0m\u001b[0;34m)\u001b[0m\u001b[0;34m,\u001b[0m \u001b[0;34m(\u001b[0m\u001b[0;36m4322\u001b[0m\u001b[0;34m,\u001b[0m \u001b[0;36m4326\u001b[0m\u001b[0;34m)\u001b[0m\u001b[0;34m,\u001b[0m \u001b[0;34m(\u001b[0m\u001b[0;36m795\u001b[0m\u001b[0;34m,\u001b[0m \u001b[0;36m814\u001b[0m\u001b[0;34m)\u001b[0m\u001b[0;34m,\u001b[0m \u001b[0;34m(\u001b[0m\u001b[0;36m1956\u001b[0m\u001b[0;34m,\u001b[0m \u001b[0;36m1957\u001b[0m\u001b[0;34m)\u001b[0m\u001b[0;34m,\u001b[0m \u001b[0;34m(\u001b[0m\u001b[0;36m4541\u001b[0m\u001b[0;34m,\u001b[0m \u001b[0;36m4542\u001b[0m\u001b[0;34m)\u001b[0m\u001b[0;34m,\u001b[0m \u001b[0;34m(\u001b[0m\u001b[0;36m2850\u001b[0m\u001b[0;34m,\u001b[0m \u001b[0;36m2851\u001b[0m\u001b[0;34m)\u001b[0m\u001b[0;34m,\u001b[0m \u001b[0;34m(\u001b[0m\u001b[0;36m1805\u001b[0m\u001b[0;34m,\u001b[0m \u001b[0;36m1875\u001b[0m\u001b[0;34m)\u001b[0m\u001b[0;34m,\u001b[0m \u001b[0;34m(\u001b[0m\u001b[0;36m586\u001b[0m\u001b[0;34m,\u001b[0m \u001b[0;36m800\u001b[0m\u001b[0;34m)\u001b[0m\u001b[0;34m,\u001b[0m \u001b[0;34m(\u001b[0m\u001b[0;36m5859\u001b[0m\u001b[0;34m,\u001b[0m \u001b[0;36m5861\u001b[0m\u001b[0;34m)\u001b[0m\u001b[0;34m,\u001b[0m \u001b[0;34m(\u001b[0m\u001b[0;36m6902\u001b[0m\u001b[0;34m,\u001b[0m \u001b[0;36m6915\u001b[0m\u001b[0;34m)\u001b[0m\u001b[0;34m,\u001b[0m \u001b[0;34m(\u001b[0m\u001b[0;36m793\u001b[0m\u001b[0;34m,\u001b[0m \u001b[0;36m811\u001b[0m\u001b[0;34m)\u001b[0m\u001b[0;34m,\u001b[0m \u001b[0;34m(\u001b[0m\u001b[0;36m5176\u001b[0m\u001b[0;34m,\u001b[0m \u001b[0;36m5181\u001b[0m\u001b[0;34m)\u001b[0m\u001b[0;34m,\u001b[0m \u001b[0;34m(\u001b[0m\u001b[0;36m5626\u001b[0m\u001b[0;34m,\u001b[0m \u001b[0;36m5627\u001b[0m\u001b[0;34m)\u001b[0m\u001b[0;34m,\u001b[0m \u001b[0;34m(\u001b[0m\u001b[0;36m5519\u001b[0m\u001b[0;34m,\u001b[0m \u001b[0;36m5570\u001b[0m\u001b[0;34m)\u001b[0m\u001b[0;34m,\u001b[0m \u001b[0;34m(\u001b[0m\u001b[0;36m6066\u001b[0m\u001b[0;34m,\u001b[0m \u001b[0;36m6082\u001b[0m\u001b[0;34m)\u001b[0m\u001b[0;34m,\u001b[0m \u001b[0;34m(\u001b[0m\u001b[0;36m2260\u001b[0m\u001b[0;34m,\u001b[0m \u001b[0;36m2261\u001b[0m\u001b[0;34m)\u001b[0m\u001b[0;34m,\u001b[0m \u001b[0;34m(\u001b[0m\u001b[0;36m5172\u001b[0m\u001b[0;34m,\u001b[0m \u001b[0;36m5173\u001b[0m\u001b[0;34m)\u001b...\n\u001b[0;32m----> 2\u001b[0;31m \u001b[0mwards\u001b[0m\u001b[0;34m[\u001b[0m\u001b[0;34m~\u001b[0m\u001b[0mwards\u001b[0m\u001b[0;34m[\u001b[0m\u001b[0;34m'GEOID'\u001b[0m\u001b[0;34m]\u001b[0m\u001b[0;34m.\u001b[0m\u001b[0misin\u001b[0m\u001b[0;34m(\u001b[0m\u001b[0mwards_only_ward_ids\u001b[0m\u001b[0;34m)\u001b[0m\u001b[0;34m]\u001b[0m\u001b[0;34m.\u001b[0m\u001b[0mplot\u001b[0m\u001b[0;34m(\u001b[0m\u001b[0;34m)\u001b[0m\u001b[0;34m\u001b[0m\u001b[0;34m\u001b[0m\u001b[0m\n\u001b[0m\u001b[1;32m      3\u001b[0m \u001b[0;31m# wards_only_ward_ids = pandas.DataFrame({\u001b[0m\u001b[0;34m\u001b[0m\u001b[0;34m\u001b[0m\u001b[0;34m\u001b[0m\u001b[0m\n\u001b[1;32m      4\u001b[0m \u001b[0;31m#     'GEOID': np.array(list(wards_only_ward_ids), dtype=object)\u001b[0m\u001b[0;34m\u001b[0m\u001b[0;34m\u001b[0m\u001b[0;34m\u001b[0m\u001b[0m\n\u001b[1;32m      5\u001b[0m \u001b[0;31m# })\u001b[0m\u001b[0;34m\u001b[0m\u001b[0;34m\u001b[0m\u001b[0;34m\u001b[0m\u001b[0m\n",
            "\u001b[0;31mNameError\u001b[0m: name 'wards_only_ward_ids' is not defined"
          ]
        }
      ]
    }
  ]
}