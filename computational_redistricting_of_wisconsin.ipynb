{
  "nbformat": 4,
  "nbformat_minor": 0,
  "metadata": {
    "colab": {
      "name": "computational-redistricting-of-wisconsin",
      "provenance": [],
      "collapsed_sections": [],
      "toc_visible": true,
      "include_colab_link": true
    },
    "kernelspec": {
      "name": "python3",
      "display_name": "Python 3"
    },
    "language_info": {
      "name": "python"
    }
  },
  "cells": [
    {
      "cell_type": "markdown",
      "metadata": {
        "id": "view-in-github",
        "colab_type": "text"
      },
      "source": [
        "<a href=\"https://colab.research.google.com/github/carlschroedl/computational-redistricting/blob/main/computational_redistricting_of_wisconsin.ipynb\" target=\"_parent\"><img src=\"https://colab.research.google.com/assets/colab-badge.svg\" alt=\"Open In Colab\"/></a>"
      ]
    },
    {
      "cell_type": "markdown",
      "metadata": {
        "id": "sZNT59ZDNb0u"
      },
      "source": [
        "# Computational Redistricting of Wisconsin\n",
        "This notebook adapts the [Getting started with GerryChain](https://gerrychain.readthedocs.io/en/latest/user/quickstart.html) and [Running a Chain with Recom](https://gerrychain.readthedocs.io/en/latest/user/recom.html) examples from [MGGG](https://mggg.org/) to work with Wisconsin data.\n",
        "\n",
        "The notebook is periodically committed to [a GitHub repo](https://github.com/carlschroedl/computational-redistricting). The GitHub and colaboratory copies may be slightly out of sync at any given time."
      ]
    },
    {
      "cell_type": "markdown",
      "metadata": {
        "id": "_ltToxxu3ybU"
      },
      "source": [
        "## Install [GerryChain](https://gerrychain.readthedocs.io/en/latest/), Set up Notebook"
      ]
    },
    {
      "cell_type": "code",
      "metadata": {
        "colab": {
          "base_uri": "https://localhost:8080/"
        },
        "id": "lo95URMEQbpK",
        "outputId": "033dc331-1104-4dec-bbef-2a34ec30c3f1"
      },
      "source": [
        "!pip install gerrychain\n",
        "\n",
        "from IPython.display import display, Markdown\n",
        "from pprint import pprint"
      ],
      "execution_count": null,
      "outputs": [
        {
          "output_type": "stream",
          "name": "stdout",
          "text": [
            "Collecting gerrychain\n",
            "  Downloading gerrychain-0.2.17-py2.py3-none-any.whl (54 kB)\n",
            "\u001b[?25l\r\u001b[K     |██████                          | 10 kB 22.4 MB/s eta 0:00:01\r\u001b[K     |████████████                    | 20 kB 30.9 MB/s eta 0:00:01\r\u001b[K     |██████████████████▏             | 30 kB 31.3 MB/s eta 0:00:01\r\u001b[K     |████████████████████████▏       | 40 kB 22.7 MB/s eta 0:00:01\r\u001b[K     |██████████████████████████████▎ | 51 kB 18.6 MB/s eta 0:00:01\r\u001b[K     |████████████████████████████████| 54 kB 2.0 MB/s \n",
            "\u001b[?25hRequirement already satisfied: matplotlib in /usr/local/lib/python3.7/dist-packages (from gerrychain) (3.2.2)\n",
            "Requirement already satisfied: shapely in /usr/local/lib/python3.7/dist-packages (from gerrychain) (1.7.1)\n",
            "Requirement already satisfied: pandas in /usr/local/lib/python3.7/dist-packages (from gerrychain) (1.1.5)\n",
            "Requirement already satisfied: networkx in /usr/local/lib/python3.7/dist-packages (from gerrychain) (2.6.3)\n",
            "Requirement already satisfied: scipy in /usr/local/lib/python3.7/dist-packages (from gerrychain) (1.4.1)\n",
            "Collecting geopandas\n",
            "  Downloading geopandas-0.9.0-py2.py3-none-any.whl (994 kB)\n",
            "\u001b[K     |████████████████████████████████| 994 kB 25.9 MB/s \n",
            "\u001b[?25hCollecting pyproj>=2.2.0\n",
            "  Downloading pyproj-3.2.1-cp37-cp37m-manylinux2010_x86_64.whl (6.3 MB)\n",
            "\u001b[K     |████████████████████████████████| 6.3 MB 62.0 MB/s \n",
            "\u001b[?25hCollecting fiona>=1.8\n",
            "  Downloading Fiona-1.8.20-cp37-cp37m-manylinux1_x86_64.whl (15.4 MB)\n",
            "\u001b[K     |████████████████████████████████| 15.4 MB 40 kB/s \n",
            "\u001b[?25hCollecting cligj>=0.5\n",
            "  Downloading cligj-0.7.2-py3-none-any.whl (7.1 kB)\n",
            "Requirement already satisfied: click>=4.0 in /usr/local/lib/python3.7/dist-packages (from fiona>=1.8->geopandas->gerrychain) (7.1.2)\n",
            "Collecting click-plugins>=1.0\n",
            "  Downloading click_plugins-1.1.1-py2.py3-none-any.whl (7.5 kB)\n",
            "Requirement already satisfied: six>=1.7 in /usr/local/lib/python3.7/dist-packages (from fiona>=1.8->geopandas->gerrychain) (1.15.0)\n",
            "Collecting munch\n",
            "  Downloading munch-2.5.0-py2.py3-none-any.whl (10 kB)\n",
            "Requirement already satisfied: setuptools in /usr/local/lib/python3.7/dist-packages (from fiona>=1.8->geopandas->gerrychain) (57.4.0)\n",
            "Requirement already satisfied: attrs>=17 in /usr/local/lib/python3.7/dist-packages (from fiona>=1.8->geopandas->gerrychain) (21.2.0)\n",
            "Requirement already satisfied: certifi in /usr/local/lib/python3.7/dist-packages (from fiona>=1.8->geopandas->gerrychain) (2021.5.30)\n",
            "Requirement already satisfied: pytz>=2017.2 in /usr/local/lib/python3.7/dist-packages (from pandas->gerrychain) (2018.9)\n",
            "Requirement already satisfied: python-dateutil>=2.7.3 in /usr/local/lib/python3.7/dist-packages (from pandas->gerrychain) (2.8.2)\n",
            "Requirement already satisfied: numpy>=1.15.4 in /usr/local/lib/python3.7/dist-packages (from pandas->gerrychain) (1.19.5)\n",
            "Requirement already satisfied: kiwisolver>=1.0.1 in /usr/local/lib/python3.7/dist-packages (from matplotlib->gerrychain) (1.3.2)\n",
            "Requirement already satisfied: pyparsing!=2.0.4,!=2.1.2,!=2.1.6,>=2.0.1 in /usr/local/lib/python3.7/dist-packages (from matplotlib->gerrychain) (2.4.7)\n",
            "Requirement already satisfied: cycler>=0.10 in /usr/local/lib/python3.7/dist-packages (from matplotlib->gerrychain) (0.10.0)\n",
            "Installing collected packages: munch, cligj, click-plugins, pyproj, fiona, geopandas, gerrychain\n",
            "Successfully installed click-plugins-1.1.1 cligj-0.7.2 fiona-1.8.20 geopandas-0.9.0 gerrychain-0.2.17 munch-2.5.0 pyproj-3.2.1\n"
          ]
        }
      ]
    },
    {
      "cell_type": "markdown",
      "metadata": {
        "id": "GjiefK_UP_4s"
      },
      "source": [
        "## Download MGGG's [Pre-Processed WI Data](https://github.com/mggg-states/WI-shapefiles)."
      ]
    },
    {
      "cell_type": "code",
      "metadata": {
        "colab": {
          "base_uri": "https://localhost:8080/"
        },
        "id": "_QGhf2fALb7k",
        "outputId": "875cdfa6-8d4f-4eb3-d718-dfa14a5759bf"
      },
      "source": [
        "!wget 'https://github.com/mggg-states/WI-shapefiles/raw/master/wisconsin2020_graph.json'"
      ],
      "execution_count": null,
      "outputs": [
        {
          "output_type": "stream",
          "name": "stdout",
          "text": [
            "--2021-09-20 13:08:19--  https://github.com/mggg-states/WI-shapefiles/raw/master/wisconsin2020_graph.json\n",
            "Resolving github.com (github.com)... 140.82.121.4\n",
            "Connecting to github.com (github.com)|140.82.121.4|:443... connected.\n",
            "HTTP request sent, awaiting response... 302 Found\n",
            "Location: https://raw.githubusercontent.com/mggg-states/WI-shapefiles/master/wisconsin2020_graph.json [following]\n",
            "--2021-09-20 13:08:19--  https://raw.githubusercontent.com/mggg-states/WI-shapefiles/master/wisconsin2020_graph.json\n",
            "Resolving raw.githubusercontent.com (raw.githubusercontent.com)... 185.199.108.133, 185.199.109.133, 185.199.110.133, ...\n",
            "Connecting to raw.githubusercontent.com (raw.githubusercontent.com)|185.199.108.133|:443... connected.\n",
            "HTTP request sent, awaiting response... 200 OK\n",
            "Length: 11915711 (11M) [text/plain]\n",
            "Saving to: ‘wisconsin2020_graph.json’\n",
            "\n",
            "wisconsin2020_graph 100%[===================>]  11.36M  --.-KB/s    in 0.07s   \n",
            "\n",
            "2021-09-20 13:08:20 (172 MB/s) - ‘wisconsin2020_graph.json’ saved [11915711/11915711]\n",
            "\n"
          ]
        }
      ]
    },
    {
      "cell_type": "markdown",
      "metadata": {
        "id": "xXQaTG1K4GMY"
      },
      "source": [
        "## Set up Initial Partition"
      ]
    },
    {
      "cell_type": "code",
      "metadata": {
        "id": "Dd1-8UgSMCe6",
        "colab": {
          "base_uri": "https://localhost:8080/"
        },
        "outputId": "54c0ca3e-cb32-4f62-88fb-7bf8a09dea1a"
      },
      "source": [
        "from gerrychain import Graph, GeographicPartition, Partition, Election\n",
        "from gerrychain.updaters import Tally, cut_edges\n",
        "\n",
        "graph = Graph.from_json(\"./wisconsin2020_graph.json\")\n",
        "print(\"Preview of node attributes:\")\n",
        "pprint(graph.nodes[0])\n",
        "\n",
        "elections = [\n",
        "    # Attributes documented here https://github.com/mggg-states/WI-shapefiles#metadata\n",
        "\n",
        "    #Election(\"SEN10\", {\"Dem\": \"SEN10D\", \"Rep\": \"SEN10R\"}),\n",
        "    Election(\"SEN12\", {\"Dem\": \"SSEN12D\", \"Rep\": \"SSEN12R\"}),\n",
        "    #Election(\"SEN16\", {\"Dem\": \"SSEN16D\", \"Rep\": \"SSEN16D\"}),\n",
        "    Election(\"PRES12\", {\"Dem\": \"PRES12D\", \"Rep\": \"PRES12R\"}),\n",
        "    #Election(\"PRES16\", {\"Dem\": \"PRES16D:\", \"Rep\": \"PRES16R:\"})\n",
        "]\n",
        "\n",
        "election_updaters = {election.name: election for election in elections}\n",
        "\n",
        "base_updaters= {\n",
        "  \"cut_edges\": cut_edges,\n",
        "  \"population\": Tally(\"TOTPOP\", alias=\"population\"),\n",
        "}\n",
        "\n",
        "combined_updaters = {\n",
        "    **base_updaters,\n",
        "    **election_updaters\n",
        "}\n",
        "\n",
        "initial_partition = GeographicPartition(\n",
        "    graph,\n",
        "    assignment=\"CD\", # Congressional=CD, State Senate = SEND, State Assembly = HDIST\n",
        "    updaters=combined_updaters\n",
        ")"
      ],
      "execution_count": null,
      "outputs": [
        {
          "output_type": "stream",
          "name": "stdout",
          "text": [
            "Preview of node attributes:\n",
            "{'2MOREVAP': 4.0,\n",
            " 'AG14D': 94,\n",
            " 'AG14R': 81,\n",
            " 'AG18D': 102,\n",
            " 'AG18R': 114,\n",
            " 'AMINVAP': 3.0,\n",
            " 'ASIANVAP': 0.0,\n",
            " 'BVAP': 6.0,\n",
            " 'CD': '3',\n",
            " 'COUNTY': 'Adams',\n",
            " 'COUNTYFP': '55001',\n",
            " 'Code': 55001002750001.0,\n",
            " 'Code-2': 1,\n",
            " 'GOV12D': 104,\n",
            " 'GOV12R': 95,\n",
            " 'GOV14D': 101,\n",
            " 'GOV14R': 85,\n",
            " 'GOV18D': 99,\n",
            " 'GOV18R': 120,\n",
            " 'HDIST': '41',\n",
            " 'HISP': 15.0,\n",
            " 'HVAP': 8.0,\n",
            " 'H_2MORE': 1.0,\n",
            " 'H_AMIN': 0.0,\n",
            " 'H_ASIAN': 0.0,\n",
            " 'H_BLACK': 0.0,\n",
            " 'H_NHPI': 0.0,\n",
            " 'H_OTHER': 10.0,\n",
            " 'H_WHITE': 4.0,\n",
            " 'NHPIVAP': 0.0,\n",
            " 'NH_2MORE': 11.0,\n",
            " 'NH_AMIN': 3.0,\n",
            " 'NH_ASIAN': 0.0,\n",
            " 'NH_BLACK': 12.0,\n",
            " 'NH_NHPI': 0.0,\n",
            " 'NH_OTHER': 0.0,\n",
            " 'NH_WHITE': 620.0,\n",
            " 'OTHERVAP': 0.0,\n",
            " 'PRES12D': 168,\n",
            " 'PRES12R': 101,\n",
            " 'PRES16D': 110,\n",
            " 'PRES16R': 127,\n",
            " 'Precinct': 'Adams - C 0001',\n",
            " 'SEN12D': 148,\n",
            " 'SEN12R': 99,\n",
            " 'SEN16D': 111,\n",
            " 'SEN16R': 116,\n",
            " 'SEN18D': 119,\n",
            " 'SEN18R': 103,\n",
            " 'SEND': '14',\n",
            " 'SH12D': 140,\n",
            " 'SH12R': 92,\n",
            " 'SH14D': 94,\n",
            " 'SH14R': 87,\n",
            " 'SH16D': 0,\n",
            " 'SH16R': 126,\n",
            " 'SH18D': 95,\n",
            " 'SH18R': 125,\n",
            " 'SOS14D': 106,\n",
            " 'SOS14R': 65,\n",
            " 'SOS18D': 108,\n",
            " 'SOS18R': 110,\n",
            " 'SSEN12D': 137,\n",
            " 'SSEN12R': 92,\n",
            " 'SSEN14D': 0,\n",
            " 'SSEN14R': 0,\n",
            " 'SSEN16D': 121,\n",
            " 'SSEN16R': 106,\n",
            " 'SSEN18D': 0,\n",
            " 'SSEN18R': 0,\n",
            " 'STATE': 'Wisconsin',\n",
            " 'STATEFP': 55,\n",
            " 'TOTPOP': 661.0,\n",
            " 'TRE14D': 91,\n",
            " 'TRE14R': 70,\n",
            " 'TRE18D': 102,\n",
            " 'TRE18R': 106,\n",
            " 'USH12D': 150,\n",
            " 'USH12R': 86,\n",
            " 'USH14D': 109,\n",
            " 'USH14R': 70,\n",
            " 'USH16D': 162,\n",
            " 'USH16R': 0,\n",
            " 'USH18D': 120,\n",
            " 'USH18R': 100,\n",
            " 'VAP': 484.0,\n",
            " 'WVAP': 463.0,\n",
            " 'area': 4485074.988444588,\n",
            " 'boundary_node': False}\n"
          ]
        }
      ]
    },
    {
      "cell_type": "code",
      "metadata": {
        "colab": {
          "base_uri": "https://localhost:8080/",
          "height": 198
        },
        "id": "VrEzm3N1MWaq",
        "outputId": "09800dc4-5487-4c42-b9ae-4b4478ee9b59"
      },
      "source": [
        "display(Markdown('### District Population'))\n",
        "for district, pop in initial_partition[\"population\"].items():\n",
        "  print(\"District {}: {}\".format(district, pop))"
      ],
      "execution_count": null,
      "outputs": [
        {
          "output_type": "display_data",
          "data": {
            "text/markdown": "### District Population",
            "text/plain": [
              "<IPython.core.display.Markdown object>"
            ]
          },
          "metadata": {}
        },
        {
          "output_type": "stream",
          "name": "stdout",
          "text": [
            "District 3: 710872.0\n",
            "District 7: 710874.0\n",
            "District 8: 710873.0\n",
            "District 6: 710866.0\n",
            "District 2: 710881.0\n",
            "District 5: 710918.0\n",
            "District 1: 710838.0\n",
            "District 4: 710864.0\n"
          ]
        }
      ]
    },
    {
      "cell_type": "markdown",
      "metadata": {
        "id": "MQ7Rf4gR5Nbz"
      },
      "source": [
        "## Create Markov Chain"
      ]
    },
    {
      "cell_type": "code",
      "metadata": {
        "id": "JJZpbDJFMj-b"
      },
      "source": [
        "from gerrychain import MarkovChain\n",
        "from gerrychain.constraints import single_flip_contiguous\n",
        "from gerrychain.proposals import propose_random_flip\n",
        "from gerrychain.accept import always_accept\n",
        "\n",
        "chain = MarkovChain(\n",
        "    \n",
        "    initial_state=initial_partition,\n",
        "\n",
        "    # More Proposals: https://gerrychain.readthedocs.io/en/latest/api.html#module-gerrychain.proposals\n",
        "    proposal=propose_random_flip,\n",
        "    \n",
        "    # More constraints: https://gerrychain.readthedocs.io/en/latest/api.html#module-gerrychain.constraints\n",
        "    constraints=[single_flip_contiguous],\n",
        "\n",
        "    # Can change to Metropolis Hastings if you want to be more selective\n",
        "    accept=always_accept,\n",
        "\n",
        "    # Start with low values to verify the process completes without error. Increase to generate more maps.\n",
        "    total_steps=10000\n",
        ")"
      ],
      "execution_count": null,
      "outputs": []
    },
    {
      "cell_type": "markdown",
      "metadata": {
        "id": "Oq0fkFg05cr5"
      },
      "source": [
        "## Calculate and Visualize Results"
      ]
    },
    {
      "cell_type": "code",
      "metadata": {
        "id": "S4Q3HFqWMsrD",
        "colab": {
          "base_uri": "https://localhost:8080/",
          "height": 479
        },
        "outputId": "15ada086-6350-4d57-f735-3e9e26f8bb60"
      },
      "source": [
        "import pandas\n",
        "import matplotlib.pyplot as plt\n",
        "\n",
        "#for election in elections:\n",
        "election = elections[0]\n",
        "display(Markdown('# {}'.format(election.name)))\n",
        "\n",
        "pprint(election)\n",
        "\n",
        "d_percents = [sorted(partition[election.name].percents(\"Dem\")) for partition in chain]\n",
        "\n",
        "data = pandas.DataFrame(d_percents)\n",
        "\n",
        "\n",
        "fig, ax = plt.subplots(figsize=(8, 6))\n",
        "# Draw 50% line\n",
        "ax.axhline(0.5, color=\"#cccccc\")\n",
        "data.boxplot(positions=range(len(data.columns)))\n",
        "plt.plot(data.iloc[0], \"ro\")\n",
        "\n",
        "# Annotate\n",
        "ax.set_title(\"Comparing the plan to an ensemble\")\n",
        "ax.set_ylabel(\"Democratic vote % {}\".format(election.name))\n",
        "ax.set_xlabel(\"Sorted districts\")\n",
        "ax.set_ylim(0, 1)\n",
        "ax.set_yticks([0, 0.25, 0.5, 0.75, 1])\n",
        "\n",
        "plt.show()"
      ],
      "execution_count": null,
      "outputs": [
        {
          "output_type": "display_data",
          "data": {
            "text/markdown": "# SEN12",
            "text/plain": [
              "<IPython.core.display.Markdown object>"
            ]
          },
          "metadata": {}
        },
        {
          "output_type": "stream",
          "name": "stdout",
          "text": [
            "Election(parties=['Dem', 'Rep'], columns=['SSEN12D', 'SSEN12R'], alias=SEN12)\n"
          ]
        },
        {
          "output_type": "display_data",
          "data": {
            "image/png": "[encoded data removed]",
            "text/plain": [
              "<Figure size 576x432 with 1 Axes>"
            ]
          },
          "metadata": {
            "needs_background": "light"
          }
        }
      ]
    },
    {
      "cell_type": "markdown",
      "metadata": {
        "id": "_H1YLhmqwMob"
      },
      "source": [
        "# Next Steps\n",
        "\n",
        "Many possibilities are detailed in the [Madison Civic Hacking Redistricting Follow-Up Resources](https://docs.google.com/document/d/1iW0A7lSslCggYZsYKxGLFIGCijMXUd0IvrS9MXsE2lA/edit?usp=sharing) doc."
      ]
    }
  ]
}